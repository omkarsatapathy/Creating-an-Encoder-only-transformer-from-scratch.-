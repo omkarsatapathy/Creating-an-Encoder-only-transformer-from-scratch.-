{
  "nbformat": 4,
  "nbformat_minor": 0,
  "metadata": {
    "colab": {
      "provenance": [],
      "machine_shape": "hm",
      "gpuType": "A100"
    },
    "kernelspec": {
      "name": "python3",
      "display_name": "Python 3"
    },
    "language_info": {
      "name": "python"
    },
    "accelerator": "GPU"
  },
  "cells": [
    {
      "cell_type": "code",
      "source": [
        "# !pip install tqdm"
      ],
      "metadata": {
        "id": "arxIFTQ7Lg0L"
      },
      "execution_count": 1,
      "outputs": []
    },
    {
      "cell_type": "code",
      "execution_count": 2,
      "metadata": {
        "colab": {
          "base_uri": "https://localhost:8080/"
        },
        "id": "uam_RT-Yi4hT",
        "outputId": "264cc184-1d4a-412c-9719-a44abb91898f"
      },
      "outputs": [
        {
          "output_type": "stream",
          "name": "stderr",
          "text": [
            "/usr/local/lib/python3.10/dist-packages/huggingface_hub/utils/_token.py:89: UserWarning: \n",
            "The secret `HF_TOKEN` does not exist in your Colab secrets.\n",
            "To authenticate with the Hugging Face Hub, create a token in your settings tab (https://huggingface.co/settings/tokens), set it as secret in your Google Colab and restart your session.\n",
            "You will be able to reuse this secret in all of your notebooks.\n",
            "Please note that authentication is recommended but still optional to access public models or datasets.\n",
            "  warnings.warn(\n"
          ]
        },
        {
          "output_type": "stream",
          "name": "stdout",
          "text": [
            "Processing Tokenization ...\n",
            "Processing Vectorization ...\n"
          ]
        },
        {
          "output_type": "stream",
          "name": "stderr",
          "text": [
            "28it [00:03,  8.29it/s]\n"
          ]
        }
      ],
      "source": [
        "import os\n",
        "import math\n",
        "import time\n",
        "import numpy as np\n",
        "import pandas as pd\n",
        "import torch\n",
        "import torch.nn as nn\n",
        "import tqdm\n",
        "import torch.nn.functional as F\n",
        "from torch.utils.data import DataLoader, Dataset\n",
        "from transformers import GPT2TokenizerFast\n",
        "from transformers import GPT2Model\n",
        "from torch.utils.data import DataLoader, Dataset\n",
        "\n",
        "d_model = 768\n",
        "num_head = 8\n",
        "drop_prob = 0.1\n",
        "batch_size = 20\n",
        "max_seq_len = 200\n",
        "ffn_hidden = 2048\n",
        "num_layer = 5\n",
        "\n",
        "#______________________________________________________________________________________________________\n",
        "# Load Data from CSV\n",
        "df = pd.read_csv('/content/SPAM text message 20170820 - Data.csv')\n",
        "df2 = df.tail(1500) # Sample train test split\n",
        "df = df.head(3500)\n",
        "\n",
        "\n",
        "def map_value():\n",
        "    return lambda x: 1 if x == 'spam' else 0\n",
        "\n",
        "\n",
        "df['Category'] = df['Category'].apply(map_value())\n",
        "y = df['Category']\n",
        "text = [_ for _ in df['Message']]\n",
        "\n",
        "# Import GPT Tokenizer\n",
        "\n",
        "tokenizer = GPT2TokenizerFast.from_pretrained('gpt2')\n",
        "model = GPT2Model.from_pretrained('gpt2').to('cuda')\n",
        "tokenizer.pad_token = tokenizer.eos_token\n",
        "\n",
        "\n",
        "def get_pos_encoding(seq_len, d_model):\n",
        "  pos_encoding = np.array(\n",
        "    [\n",
        "      [pos / np.power(10000, 2 * (j // 2) / d_model) for j in range(d_model)]\n",
        "      for pos in range(seq_len)\n",
        "    ]\n",
        "  )\n",
        "  pos_encoding[:, 0::2] = np.sin(pos_encoding[:, 0::2])\n",
        "  pos_encoding[:, 1::2] = np.cos(pos_encoding[:, 1::2])\n",
        "  return torch.from_numpy(pos_encoding).float()\n",
        "\n",
        "\n",
        "# Define a custom Dataset\n",
        "\n",
        "def tokenize_and_pad(sentences, tokenizer, max_length=50, padding='max_length'):\n",
        "    print('Processing Tokenization ...')\n",
        "    tokenized_sentences = tokenizer(sentences, truncation=True, padding=padding, max_length=max_length,\n",
        "                                    return_tensors='pt')\n",
        "    input_ids = tokenized_sentences['input_ids']\n",
        "    attention_mask = tokenized_sentences['attention_mask']\n",
        "\n",
        "    return input_ids, attention_mask\n",
        "\n",
        "    # Create dataset and dataLoader\n",
        "\n",
        "\n",
        "dataset, attention_mask = tokenize_and_pad(text, tokenizer)\n",
        "dataloader = DataLoader(dataset, batch_size=128, shuffle=True)\n",
        "\n",
        "counter = 0\n",
        "for batch in dataloader:\n",
        "    counter += 1\n",
        "\n",
        "all_word_vectors = []\n",
        "print('Processing Vectorization ...')\n",
        "with torch.no_grad():\n",
        "    for i, batch in tqdm.tqdm(enumerate(dataloader)):\n",
        "        t1 = time.time()\n",
        "        batch = batch.to(device='cuda')\n",
        "        outputs = model(batch)\n",
        "        word_vectors = outputs.last_hidden_state\n",
        "        # positional_embeddings = model.wpe(batch)\n",
        "        all_word_vectors.append(word_vectors + get_pos_encoding(50,768).to('cuda'))\n",
        "        t2 =time.time()\n",
        "        # if i % 5 == 0:\n",
        "          # print(f'Processing Vectorization ... ETC: {round((t2-t1) * (counter-i),1)}sec')\n",
        "\n",
        "# Concatenate all word vectors from batches\n",
        "all_word_vectors = torch.cat(all_word_vectors, dim=0).reshape(35,100,50,768)\n",
        "\n",
        "\n",
        "#____________________________________________________________________________________________________\n",
        "\n",
        "\n",
        "def scaled_masked_attn(q, k, v, masked=True):\n",
        "        masked_matrix = torch.triu(\n",
        "            torch.full((torch.matmul(q, k.transpose(-2, -1)) / (q.shape[-1]) ** 0.5).size(), float('-inf')), diagonal=1).to('cuda')\n",
        "        scaled = torch.matmul(q, k.transpose(-2, -1)) / (q.shape)[-1] ** 0.5\n",
        "        if masked == True:\n",
        "            attention_matrix = F.softmax(scaled + masked_matrix, dim=-1)\n",
        "        else:\n",
        "            attention_matrix = F.softmax(scaled, dim=-1)\n",
        "        values = torch.matmul(attention_matrix, v)\n",
        "        return attention_matrix, values\n",
        "\n",
        "\n",
        "class Multi_headed_attension(nn.Module):\n",
        "    def __init__(self, num_head, d_model):\n",
        "        super(Multi_headed_attension, self).__init__()\n",
        "        self.num_head = num_head\n",
        "        self.d_model = d_model\n",
        "        self.head_dim = d_model // num_head\n",
        "        self.qkv_layer = nn.Linear(self.d_model, self.d_model * 3)\n",
        "        self.linear_layer = nn.Linear(self.d_model, self.d_model)\n",
        "\n",
        "    def forward(self, x):\n",
        "        # print('Processing Attention ...')\n",
        "        # print('Input shape in attension layer is :', x.shape)\n",
        "        batch_size, seq_len, input_dim = x.size()\n",
        "        qkv = self.qkv_layer(x)\n",
        "        qkv = qkv.reshape(batch_size, seq_len, self.num_head, 3 * self.head_dim)\n",
        "        qkv = qkv.permute(0, 2, 1, 3)\n",
        "        q, k, v = qkv.chunk(3, dim=-1)\n",
        "        attention, values = scaled_masked_attn(q=q, v=v, k=k, masked=True)\n",
        "        values = values.reshape(batch_size, seq_len, self.num_head * self.head_dim)\n",
        "        out = self.linear_layer(values)\n",
        "        return out\n",
        "\n",
        "\n",
        "class FeedForward(nn.Module):\n",
        "    def __init__(self, shape, hidden_shape, drop_prob=0.1):\n",
        "        super(FeedForward, self).__init__()\n",
        "        self.Linear_layer1 = nn.Linear(shape, hidden_shape)\n",
        "        self.Linear_layer2 = nn.Linear(hidden_shape, shape)\n",
        "        self.Drop = nn.Dropout(p=drop_prob)\n",
        "\n",
        "    def forward(self, x):\n",
        "        x = F.relu(self.Linear_layer1(x))\n",
        "        x = self.Drop(x)\n",
        "        x = self.Linear_layer2(x)\n",
        "        return x\n",
        "\n",
        "\n",
        "class EncoderBlock(nn.Module):\n",
        "    def __init__(self, d_model, num_head, ffn_hidden, drop_prob=0.1):\n",
        "        super(EncoderBlock, self).__init__()\n",
        "        self.attn = Multi_headed_attension(num_head, d_model)\n",
        "        self.ffn = FeedForward(d_model, ffn_hidden, drop_prob)\n",
        "        self.LayerNorm = nn.LayerNorm(d_model)\n",
        "        self.dropout = nn.Dropout(p=drop_prob)\n",
        "        self.ffn = FeedForward(d_model, ffn_hidden, drop_prob=drop_prob)\n",
        "\n",
        "    def forward(self, x):\n",
        "        residual_x = x\n",
        "        x = self.attn(x)\n",
        "        x = self.LayerNorm(self.dropout(x) + residual_x)\n",
        "        residual_x = x\n",
        "        x = self.attn(x)\n",
        "        x = self.LayerNorm(self.dropout(x) + residual_x)\n",
        "        x = self.ffn(x)\n",
        "        x = self.dropout(x)\n",
        "        return self.LayerNorm(residual_x + x)\n",
        "\n",
        "\n",
        "class Encoder(nn.Module):\n",
        "    def __init__(self, d_model, num_heads, ffn_hidden, drop_prob=0.1, num_layers=6):\n",
        "        super(Encoder, self).__init__()\n",
        "        self.linear_classifier = nn.Linear(50*768, 100)\n",
        "        self.layers = nn.Sequential(\n",
        "            *[EncoderBlock(d_model, ffn_hidden, num_heads, drop_prob) for _ in range(num_layers)]\n",
        "        )\n",
        "        self.sigmoid = nn.Sigmoid()\n",
        "\n",
        "    def forward(self, x):\n",
        "        x = self.layers(x)#.mean(dim=0) # donot take mean here, Rather oprate it in a batch with a for loop\n",
        "        # print('without taking the mean shape is :',x.shape)\n",
        "        x = x.mean(dim=0) # donot take mean here, Rather oprate it in a batch with a for loop\n",
        "        # print('without taking the mean shape is :',x.shape)\n",
        "        x = x.view(-1)\n",
        "        # print(x.shape)\n",
        "        x = self.linear_classifier(x)\n",
        "        x = self.sigmoid((x))\n",
        "        return x\n",
        "\n",
        "\n",
        "attention_model = Encoder(d_model, ffn_hidden, num_head, drop_prob, num_layer).to(device='cuda')\n"
      ]
    },
    {
      "cell_type": "code",
      "source": [
        "\n",
        "for batch in range(all_word_vectors.shape[0]):\n",
        "  out = attention_model(all_word_vectors[batch].reshape(100,50,768))\n",
        "  print('Input batch dimension',all_word_vectors[batch].shape)\n",
        "  print(y.shape)\n",
        "  print('Output batch dimension',out.shape)\n",
        "  break"
      ],
      "metadata": {
        "colab": {
          "base_uri": "https://localhost:8080/"
        },
        "id": "m0M9foUko6cs",
        "outputId": "587e49ed-aec2-4ba3-ba73-29af9c23b31f"
      },
      "execution_count": 3,
      "outputs": [
        {
          "output_type": "stream",
          "name": "stdout",
          "text": [
            "Input batch dimension torch.Size([100, 50, 768])\n",
            "(3500,)\n",
            "Output batch dimension torch.Size([100])\n"
          ]
        }
      ]
    },
    {
      "cell_type": "code",
      "source": [
        "from torchsummary import summary\n",
        "summary(attention_model, (50, 768))"
      ],
      "metadata": {
        "colab": {
          "base_uri": "https://localhost:8080/"
        },
        "id": "eDD6Tsje58lk",
        "outputId": "c697b93e-a3ce-444b-dc3a-f45d271c1317"
      },
      "execution_count": 4,
      "outputs": [
        {
          "output_type": "stream",
          "name": "stdout",
          "text": [
            "----------------------------------------------------------------\n",
            "        Layer (type)               Output Shape         Param #\n",
            "================================================================\n",
            "            Linear-1             [-1, 50, 2304]       1,771,776\n",
            "            Linear-2              [-1, 50, 768]         590,592\n",
            "Multi_headed_attension-3              [-1, 50, 768]               0\n",
            "           Dropout-4              [-1, 50, 768]               0\n",
            "         LayerNorm-5              [-1, 50, 768]           1,536\n",
            "            Linear-6             [-1, 50, 2304]       1,771,776\n",
            "            Linear-7              [-1, 50, 768]         590,592\n",
            "Multi_headed_attension-8              [-1, 50, 768]               0\n",
            "           Dropout-9              [-1, 50, 768]               0\n",
            "        LayerNorm-10              [-1, 50, 768]           1,536\n",
            "           Linear-11             [-1, 50, 2048]       1,574,912\n",
            "          Dropout-12             [-1, 50, 2048]               0\n",
            "           Linear-13              [-1, 50, 768]       1,573,632\n",
            "      FeedForward-14              [-1, 50, 768]               0\n",
            "          Dropout-15              [-1, 50, 768]               0\n",
            "        LayerNorm-16              [-1, 50, 768]           1,536\n",
            "     EncoderBlock-17              [-1, 50, 768]               0\n",
            "           Linear-18             [-1, 50, 2304]       1,771,776\n",
            "           Linear-19              [-1, 50, 768]         590,592\n",
            "Multi_headed_attension-20              [-1, 50, 768]               0\n",
            "          Dropout-21              [-1, 50, 768]               0\n",
            "        LayerNorm-22              [-1, 50, 768]           1,536\n",
            "           Linear-23             [-1, 50, 2304]       1,771,776\n",
            "           Linear-24              [-1, 50, 768]         590,592\n",
            "Multi_headed_attension-25              [-1, 50, 768]               0\n",
            "          Dropout-26              [-1, 50, 768]               0\n",
            "        LayerNorm-27              [-1, 50, 768]           1,536\n",
            "           Linear-28             [-1, 50, 2048]       1,574,912\n",
            "          Dropout-29             [-1, 50, 2048]               0\n",
            "           Linear-30              [-1, 50, 768]       1,573,632\n",
            "      FeedForward-31              [-1, 50, 768]               0\n",
            "          Dropout-32              [-1, 50, 768]               0\n",
            "        LayerNorm-33              [-1, 50, 768]           1,536\n",
            "     EncoderBlock-34              [-1, 50, 768]               0\n",
            "           Linear-35             [-1, 50, 2304]       1,771,776\n",
            "           Linear-36              [-1, 50, 768]         590,592\n",
            "Multi_headed_attension-37              [-1, 50, 768]               0\n",
            "          Dropout-38              [-1, 50, 768]               0\n",
            "        LayerNorm-39              [-1, 50, 768]           1,536\n",
            "           Linear-40             [-1, 50, 2304]       1,771,776\n",
            "           Linear-41              [-1, 50, 768]         590,592\n",
            "Multi_headed_attension-42              [-1, 50, 768]               0\n",
            "          Dropout-43              [-1, 50, 768]               0\n",
            "        LayerNorm-44              [-1, 50, 768]           1,536\n",
            "           Linear-45             [-1, 50, 2048]       1,574,912\n",
            "          Dropout-46             [-1, 50, 2048]               0\n",
            "           Linear-47              [-1, 50, 768]       1,573,632\n",
            "      FeedForward-48              [-1, 50, 768]               0\n",
            "          Dropout-49              [-1, 50, 768]               0\n",
            "        LayerNorm-50              [-1, 50, 768]           1,536\n",
            "     EncoderBlock-51              [-1, 50, 768]               0\n",
            "           Linear-52             [-1, 50, 2304]       1,771,776\n",
            "           Linear-53              [-1, 50, 768]         590,592\n",
            "Multi_headed_attension-54              [-1, 50, 768]               0\n",
            "          Dropout-55              [-1, 50, 768]               0\n",
            "        LayerNorm-56              [-1, 50, 768]           1,536\n",
            "           Linear-57             [-1, 50, 2304]       1,771,776\n",
            "           Linear-58              [-1, 50, 768]         590,592\n",
            "Multi_headed_attension-59              [-1, 50, 768]               0\n",
            "          Dropout-60              [-1, 50, 768]               0\n",
            "        LayerNorm-61              [-1, 50, 768]           1,536\n",
            "           Linear-62             [-1, 50, 2048]       1,574,912\n",
            "          Dropout-63             [-1, 50, 2048]               0\n",
            "           Linear-64              [-1, 50, 768]       1,573,632\n",
            "      FeedForward-65              [-1, 50, 768]               0\n",
            "          Dropout-66              [-1, 50, 768]               0\n",
            "        LayerNorm-67              [-1, 50, 768]           1,536\n",
            "     EncoderBlock-68              [-1, 50, 768]               0\n",
            "           Linear-69             [-1, 50, 2304]       1,771,776\n",
            "           Linear-70              [-1, 50, 768]         590,592\n",
            "Multi_headed_attension-71              [-1, 50, 768]               0\n",
            "          Dropout-72              [-1, 50, 768]               0\n",
            "        LayerNorm-73              [-1, 50, 768]           1,536\n",
            "           Linear-74             [-1, 50, 2304]       1,771,776\n",
            "           Linear-75              [-1, 50, 768]         590,592\n",
            "Multi_headed_attension-76              [-1, 50, 768]               0\n",
            "          Dropout-77              [-1, 50, 768]               0\n",
            "        LayerNorm-78              [-1, 50, 768]           1,536\n",
            "           Linear-79             [-1, 50, 2048]       1,574,912\n",
            "          Dropout-80             [-1, 50, 2048]               0\n",
            "           Linear-81              [-1, 50, 768]       1,573,632\n",
            "      FeedForward-82              [-1, 50, 768]               0\n",
            "          Dropout-83              [-1, 50, 768]               0\n",
            "        LayerNorm-84              [-1, 50, 768]           1,536\n",
            "     EncoderBlock-85              [-1, 50, 768]               0\n",
            "           Linear-86                       [-1]       3,840,100\n",
            "          Sigmoid-87                       [-1]               0\n",
            "================================================================\n",
            "Total params: 43,229,540\n",
            "Trainable params: 43,229,540\n",
            "Non-trainable params: 0\n",
            "----------------------------------------------------------------\n",
            "Input size (MB): 0.15\n",
            "Forward/backward pass size (MB): 35.64\n",
            "Params size (MB): 164.91\n",
            "Estimated Total Size (MB): 200.70\n",
            "----------------------------------------------------------------\n"
          ]
        }
      ]
    },
    {
      "cell_type": "code",
      "source": [
        "y = df['Category']\n",
        "label = torch.tensor(y).float()#.reshape(-1)"
      ],
      "metadata": {
        "id": "trulXfc-6x5j"
      },
      "execution_count": 5,
      "outputs": []
    },
    {
      "cell_type": "code",
      "source": [
        "label = label.reshape(35,100).to('cuda')#.transpose(0,1)\n",
        "label"
      ],
      "metadata": {
        "colab": {
          "base_uri": "https://localhost:8080/"
        },
        "id": "aat3S1Efv0AB",
        "outputId": "9313bb5a-874a-444e-cf60-90f195ec5128"
      },
      "execution_count": 6,
      "outputs": [
        {
          "output_type": "execute_result",
          "data": {
            "text/plain": [
              "tensor([[0., 0., 1.,  ..., 0., 0., 0.],\n",
              "        [0., 0., 0.,  ..., 0., 0., 0.],\n",
              "        [0., 0., 0.,  ..., 0., 0., 0.],\n",
              "        ...,\n",
              "        [0., 0., 0.,  ..., 0., 1., 1.],\n",
              "        [0., 0., 1.,  ..., 1., 0., 0.],\n",
              "        [0., 1., 0.,  ..., 0., 0., 0.]], device='cuda:0')"
            ]
          },
          "metadata": {},
          "execution_count": 6
        }
      ]
    },
    {
      "cell_type": "code",
      "source": [
        "criterion = nn.BCELoss()\n",
        "optimizer = torch.optim.Adam(attention_model.parameters(), lr=0.0001)"
      ],
      "metadata": {
        "id": "lcEzej0xxbzy"
      },
      "execution_count": 7,
      "outputs": []
    },
    {
      "cell_type": "code",
      "source": [
        "loss_list = []\n",
        "attention_model.train()\n",
        "for epoch in tqdm.tqdm(range(250)):\n",
        "  t1 = time.time()\n",
        "  batch_loss = []\n",
        "  for batch in range(all_word_vectors.shape[0]):\n",
        "    output = attention_model(all_word_vectors[batch].reshape(100,50,768))\n",
        "    optimizer.zero_grad()\n",
        "    loss = criterion(output, label[batch].reshape(100))\n",
        "    loss.backward()\n",
        "    optimizer.step()\n",
        "    batch_loss.append(loss.item())\n",
        "  t2 = time.time()\n",
        "  print(f'Time remaining for completion is :{round(((t2-t1)*(160-epoch))/60,1)}Min') # Replace this 160 with 250, Later I realized that its a bug, or declaire a generalized variable called Epochs\n",
        "  loss_list.append(sum(batch_loss)/len(batch_loss))\n",
        "  print(f'Epoch: {epoch}, Batch: {batch}, Loss: {sum(batch_loss)/len(batch_loss)}')\n",
        "\n",
        "    # break"
      ],
      "metadata": {
        "colab": {
          "base_uri": "https://localhost:8080/"
        },
        "id": "_gJkyIwEv9jI",
        "outputId": "83615f75-d1ac-4870-e5ad-b787d9dce36d"
      },
      "execution_count": 8,
      "outputs": [
        {
          "output_type": "stream",
          "name": "stderr",
          "text": [
            "  0%|          | 1/250 [00:03<15:40,  3.78s/it]"
          ]
        },
        {
          "output_type": "stream",
          "name": "stdout",
          "text": [
            "Time remaining for completion is :10.1Min\n",
            "Epoch: 0, Batch: 34, Loss: 0.6280032098293304\n"
          ]
        },
        {
          "output_type": "stream",
          "name": "stderr",
          "text": [
            "\r  1%|          | 2/250 [00:07<15:11,  3.68s/it]"
          ]
        },
        {
          "output_type": "stream",
          "name": "stdout",
          "text": [
            "Time remaining for completion is :9.6Min\n",
            "Epoch: 1, Batch: 34, Loss: 0.4758712002209255\n"
          ]
        },
        {
          "output_type": "stream",
          "name": "stderr",
          "text": [
            "\r  1%|          | 3/250 [00:10<14:59,  3.64s/it]"
          ]
        },
        {
          "output_type": "stream",
          "name": "stdout",
          "text": [
            "Time remaining for completion is :9.5Min\n",
            "Epoch: 2, Batch: 34, Loss: 0.4336912325450352\n"
          ]
        },
        {
          "output_type": "stream",
          "name": "stderr",
          "text": [
            "\r  2%|▏         | 4/250 [00:14<14:55,  3.64s/it]"
          ]
        },
        {
          "output_type": "stream",
          "name": "stdout",
          "text": [
            "Time remaining for completion is :9.5Min\n",
            "Epoch: 3, Batch: 34, Loss: 0.4280561455658504\n"
          ]
        },
        {
          "output_type": "stream",
          "name": "stderr",
          "text": [
            "\r  2%|▏         | 5/250 [00:18<14:49,  3.63s/it]"
          ]
        },
        {
          "output_type": "stream",
          "name": "stdout",
          "text": [
            "Time remaining for completion is :9.4Min\n",
            "Epoch: 4, Batch: 34, Loss: 0.4248727457863944\n"
          ]
        },
        {
          "output_type": "stream",
          "name": "stderr",
          "text": [
            "\r  2%|▏         | 6/250 [00:21<14:44,  3.63s/it]"
          ]
        },
        {
          "output_type": "stream",
          "name": "stdout",
          "text": [
            "Time remaining for completion is :9.3Min\n",
            "Epoch: 5, Batch: 34, Loss: 0.4224636614322662\n"
          ]
        },
        {
          "output_type": "stream",
          "name": "stderr",
          "text": [
            "\r  3%|▎         | 7/250 [00:25<14:43,  3.64s/it]"
          ]
        },
        {
          "output_type": "stream",
          "name": "stdout",
          "text": [
            "Time remaining for completion is :9.4Min\n",
            "Epoch: 6, Batch: 34, Loss: 0.4225371326719012\n"
          ]
        },
        {
          "output_type": "stream",
          "name": "stderr",
          "text": [
            "\r  3%|▎         | 8/250 [00:29<14:40,  3.64s/it]"
          ]
        },
        {
          "output_type": "stream",
          "name": "stdout",
          "text": [
            "Time remaining for completion is :9.3Min\n",
            "Epoch: 7, Batch: 34, Loss: 0.4216245038168771\n"
          ]
        },
        {
          "output_type": "stream",
          "name": "stderr",
          "text": [
            "\r  4%|▎         | 9/250 [00:32<14:34,  3.63s/it]"
          ]
        },
        {
          "output_type": "stream",
          "name": "stdout",
          "text": [
            "Time remaining for completion is :9.2Min\n",
            "Epoch: 8, Batch: 34, Loss: 0.42430964538029264\n"
          ]
        },
        {
          "output_type": "stream",
          "name": "stderr",
          "text": [
            "\r  4%|▍         | 10/250 [00:36<14:35,  3.65s/it]"
          ]
        },
        {
          "output_type": "stream",
          "name": "stdout",
          "text": [
            "Time remaining for completion is :9.3Min\n",
            "Epoch: 9, Batch: 34, Loss: 0.4195395486695426\n"
          ]
        },
        {
          "output_type": "stream",
          "name": "stderr",
          "text": [
            "\r  4%|▍         | 11/250 [00:40<14:30,  3.64s/it]"
          ]
        },
        {
          "output_type": "stream",
          "name": "stdout",
          "text": [
            "Time remaining for completion is :9.1Min\n",
            "Epoch: 10, Batch: 34, Loss: 0.4196870837892805\n"
          ]
        },
        {
          "output_type": "stream",
          "name": "stderr",
          "text": [
            "\r  5%|▍         | 12/250 [00:43<14:26,  3.64s/it]"
          ]
        },
        {
          "output_type": "stream",
          "name": "stdout",
          "text": [
            "Time remaining for completion is :9.0Min\n",
            "Epoch: 11, Batch: 34, Loss: 0.4183947469506945\n"
          ]
        },
        {
          "output_type": "stream",
          "name": "stderr",
          "text": [
            "\r  5%|▌         | 13/250 [00:47<14:22,  3.64s/it]"
          ]
        },
        {
          "output_type": "stream",
          "name": "stdout",
          "text": [
            "Time remaining for completion is :9.0Min\n",
            "Epoch: 12, Batch: 34, Loss: 0.421471187046596\n"
          ]
        },
        {
          "output_type": "stream",
          "name": "stderr",
          "text": [
            "\r  6%|▌         | 14/250 [00:50<14:18,  3.64s/it]"
          ]
        },
        {
          "output_type": "stream",
          "name": "stdout",
          "text": [
            "Time remaining for completion is :8.9Min\n",
            "Epoch: 13, Batch: 34, Loss: 0.4188377048288073\n"
          ]
        },
        {
          "output_type": "stream",
          "name": "stderr",
          "text": [
            "\r  6%|▌         | 15/250 [00:54<14:14,  3.63s/it]"
          ]
        },
        {
          "output_type": "stream",
          "name": "stdout",
          "text": [
            "Time remaining for completion is :8.8Min\n",
            "Epoch: 14, Batch: 34, Loss: 0.42793525201933724\n"
          ]
        },
        {
          "output_type": "stream",
          "name": "stderr",
          "text": [
            "\r  6%|▋         | 16/250 [00:58<14:08,  3.63s/it]"
          ]
        },
        {
          "output_type": "stream",
          "name": "stdout",
          "text": [
            "Time remaining for completion is :8.7Min\n",
            "Epoch: 15, Batch: 34, Loss: 0.4193164391177041\n"
          ]
        },
        {
          "output_type": "stream",
          "name": "stderr",
          "text": [
            "\r  7%|▋         | 17/250 [01:01<14:04,  3.62s/it]"
          ]
        },
        {
          "output_type": "stream",
          "name": "stdout",
          "text": [
            "Time remaining for completion is :8.7Min\n",
            "Epoch: 16, Batch: 34, Loss: 0.4292087972164154\n"
          ]
        },
        {
          "output_type": "stream",
          "name": "stderr",
          "text": [
            "\r  7%|▋         | 18/250 [01:05<14:02,  3.63s/it]"
          ]
        },
        {
          "output_type": "stream",
          "name": "stdout",
          "text": [
            "Time remaining for completion is :8.7Min\n",
            "Epoch: 17, Batch: 34, Loss: 0.4271614338670458\n"
          ]
        },
        {
          "output_type": "stream",
          "name": "stderr",
          "text": [
            "\r  8%|▊         | 19/250 [01:09<13:57,  3.63s/it]"
          ]
        },
        {
          "output_type": "stream",
          "name": "stdout",
          "text": [
            "Time remaining for completion is :8.6Min\n",
            "Epoch: 18, Batch: 34, Loss: 0.4222377223627908\n"
          ]
        },
        {
          "output_type": "stream",
          "name": "stderr",
          "text": [
            "\r  8%|▊         | 20/250 [01:12<13:53,  3.63s/it]"
          ]
        },
        {
          "output_type": "stream",
          "name": "stdout",
          "text": [
            "Time remaining for completion is :8.5Min\n",
            "Epoch: 19, Batch: 34, Loss: 0.4301990602697645\n"
          ]
        },
        {
          "output_type": "stream",
          "name": "stderr",
          "text": [
            "\r  8%|▊         | 21/250 [01:16<13:49,  3.62s/it]"
          ]
        },
        {
          "output_type": "stream",
          "name": "stdout",
          "text": [
            "Time remaining for completion is :8.4Min\n",
            "Epoch: 20, Batch: 34, Loss: 0.4204366385936737\n"
          ]
        },
        {
          "output_type": "stream",
          "name": "stderr",
          "text": [
            "\r  9%|▉         | 22/250 [01:19<13:45,  3.62s/it]"
          ]
        },
        {
          "output_type": "stream",
          "name": "stdout",
          "text": [
            "Time remaining for completion is :8.4Min\n",
            "Epoch: 21, Batch: 34, Loss: 0.42194688149860926\n"
          ]
        },
        {
          "output_type": "stream",
          "name": "stderr",
          "text": [
            "\r  9%|▉         | 23/250 [01:23<13:43,  3.63s/it]"
          ]
        },
        {
          "output_type": "stream",
          "name": "stdout",
          "text": [
            "Time remaining for completion is :8.4Min\n",
            "Epoch: 22, Batch: 34, Loss: 0.4259274056979588\n"
          ]
        },
        {
          "output_type": "stream",
          "name": "stderr",
          "text": [
            "\r 10%|▉         | 24/250 [01:27<13:38,  3.62s/it]"
          ]
        },
        {
          "output_type": "stream",
          "name": "stdout",
          "text": [
            "Time remaining for completion is :8.2Min\n",
            "Epoch: 23, Batch: 34, Loss: 0.41546477590288433\n"
          ]
        },
        {
          "output_type": "stream",
          "name": "stderr",
          "text": [
            "\r 10%|█         | 25/250 [01:30<13:34,  3.62s/it]"
          ]
        },
        {
          "output_type": "stream",
          "name": "stdout",
          "text": [
            "Time remaining for completion is :8.2Min\n",
            "Epoch: 24, Batch: 34, Loss: 0.419782977444785\n"
          ]
        },
        {
          "output_type": "stream",
          "name": "stderr",
          "text": [
            "\r 10%|█         | 26/250 [01:34<13:31,  3.62s/it]"
          ]
        },
        {
          "output_type": "stream",
          "name": "stdout",
          "text": [
            "Time remaining for completion is :8.2Min\n",
            "Epoch: 25, Batch: 34, Loss: 0.4217885502747127\n"
          ]
        },
        {
          "output_type": "stream",
          "name": "stderr",
          "text": [
            "\r 11%|█         | 27/250 [01:38<13:26,  3.62s/it]"
          ]
        },
        {
          "output_type": "stream",
          "name": "stdout",
          "text": [
            "Time remaining for completion is :8.1Min\n",
            "Epoch: 26, Batch: 34, Loss: 0.41307402764047896\n"
          ]
        },
        {
          "output_type": "stream",
          "name": "stderr",
          "text": [
            "\r 11%|█         | 28/250 [01:41<13:23,  3.62s/it]"
          ]
        },
        {
          "output_type": "stream",
          "name": "stdout",
          "text": [
            "Time remaining for completion is :8.0Min\n",
            "Epoch: 27, Batch: 34, Loss: 0.4151777275971004\n"
          ]
        },
        {
          "output_type": "stream",
          "name": "stderr",
          "text": [
            "\r 12%|█▏        | 29/250 [01:45<13:20,  3.62s/it]"
          ]
        },
        {
          "output_type": "stream",
          "name": "stdout",
          "text": [
            "Time remaining for completion is :8.0Min\n",
            "Epoch: 28, Batch: 34, Loss: 0.4186371122087751\n"
          ]
        },
        {
          "output_type": "stream",
          "name": "stderr",
          "text": [
            "\r 12%|█▏        | 30/250 [01:48<13:16,  3.62s/it]"
          ]
        },
        {
          "output_type": "stream",
          "name": "stdout",
          "text": [
            "Time remaining for completion is :7.9Min\n",
            "Epoch: 29, Batch: 34, Loss: 0.4128831718649183\n"
          ]
        },
        {
          "output_type": "stream",
          "name": "stderr",
          "text": [
            "\r 12%|█▏        | 31/250 [01:52<13:11,  3.62s/it]"
          ]
        },
        {
          "output_type": "stream",
          "name": "stdout",
          "text": [
            "Time remaining for completion is :7.8Min\n",
            "Epoch: 30, Batch: 34, Loss: 0.4130794014249529\n"
          ]
        },
        {
          "output_type": "stream",
          "name": "stderr",
          "text": [
            "\r 13%|█▎        | 32/250 [01:56<13:07,  3.61s/it]"
          ]
        },
        {
          "output_type": "stream",
          "name": "stdout",
          "text": [
            "Time remaining for completion is :7.8Min\n",
            "Epoch: 31, Batch: 34, Loss: 0.4161953100136348\n"
          ]
        },
        {
          "output_type": "stream",
          "name": "stderr",
          "text": [
            "\r 13%|█▎        | 33/250 [01:59<13:06,  3.62s/it]"
          ]
        },
        {
          "output_type": "stream",
          "name": "stdout",
          "text": [
            "Time remaining for completion is :7.8Min\n",
            "Epoch: 32, Batch: 34, Loss: 0.41098562053271703\n"
          ]
        },
        {
          "output_type": "stream",
          "name": "stderr",
          "text": [
            "\r 14%|█▎        | 34/250 [02:03<13:03,  3.63s/it]"
          ]
        },
        {
          "output_type": "stream",
          "name": "stdout",
          "text": [
            "Time remaining for completion is :7.7Min\n",
            "Epoch: 33, Batch: 34, Loss: 0.40586285846573966\n"
          ]
        },
        {
          "output_type": "stream",
          "name": "stderr",
          "text": [
            "\r 14%|█▍        | 35/250 [02:07<12:57,  3.62s/it]"
          ]
        },
        {
          "output_type": "stream",
          "name": "stdout",
          "text": [
            "Time remaining for completion is :7.5Min\n",
            "Epoch: 34, Batch: 34, Loss: 0.41084067140306746\n"
          ]
        },
        {
          "output_type": "stream",
          "name": "stderr",
          "text": [
            "\r 14%|█▍        | 36/250 [02:10<12:57,  3.63s/it]"
          ]
        },
        {
          "output_type": "stream",
          "name": "stdout",
          "text": [
            "Time remaining for completion is :7.6Min\n",
            "Epoch: 35, Batch: 34, Loss: 0.4034859163420541\n"
          ]
        },
        {
          "output_type": "stream",
          "name": "stderr",
          "text": [
            "\r 15%|█▍        | 37/250 [02:14<12:50,  3.62s/it]"
          ]
        },
        {
          "output_type": "stream",
          "name": "stdout",
          "text": [
            "Time remaining for completion is :7.4Min\n",
            "Epoch: 36, Batch: 34, Loss: 0.3990553021430969\n"
          ]
        },
        {
          "output_type": "stream",
          "name": "stderr",
          "text": [
            "\r 15%|█▌        | 38/250 [02:17<12:46,  3.61s/it]"
          ]
        },
        {
          "output_type": "stream",
          "name": "stdout",
          "text": [
            "Time remaining for completion is :7.4Min\n",
            "Epoch: 37, Batch: 34, Loss: 0.4036107097353254\n"
          ]
        },
        {
          "output_type": "stream",
          "name": "stderr",
          "text": [
            "\r 16%|█▌        | 39/250 [02:21<12:44,  3.62s/it]"
          ]
        },
        {
          "output_type": "stream",
          "name": "stdout",
          "text": [
            "Time remaining for completion is :7.4Min\n",
            "Epoch: 38, Batch: 34, Loss: 0.397252357006073\n"
          ]
        },
        {
          "output_type": "stream",
          "name": "stderr",
          "text": [
            "\r 16%|█▌        | 40/250 [02:25<12:39,  3.62s/it]"
          ]
        },
        {
          "output_type": "stream",
          "name": "stdout",
          "text": [
            "Time remaining for completion is :7.3Min\n",
            "Epoch: 39, Batch: 34, Loss: 0.3918098458221981\n"
          ]
        },
        {
          "output_type": "stream",
          "name": "stderr",
          "text": [
            "\r 16%|█▋        | 41/250 [02:28<12:36,  3.62s/it]"
          ]
        },
        {
          "output_type": "stream",
          "name": "stdout",
          "text": [
            "Time remaining for completion is :7.2Min\n",
            "Epoch: 40, Batch: 34, Loss: 0.3944382999624525\n"
          ]
        },
        {
          "output_type": "stream",
          "name": "stderr",
          "text": [
            "\r 17%|█▋        | 42/250 [02:32<12:31,  3.61s/it]"
          ]
        },
        {
          "output_type": "stream",
          "name": "stdout",
          "text": [
            "Time remaining for completion is :7.1Min\n",
            "Epoch: 41, Batch: 34, Loss: 0.38986743177686417\n"
          ]
        },
        {
          "output_type": "stream",
          "name": "stderr",
          "text": [
            "\r 17%|█▋        | 43/250 [02:35<12:28,  3.61s/it]"
          ]
        },
        {
          "output_type": "stream",
          "name": "stdout",
          "text": [
            "Time remaining for completion is :7.1Min\n",
            "Epoch: 42, Batch: 34, Loss: 0.38382321425846644\n"
          ]
        },
        {
          "output_type": "stream",
          "name": "stderr",
          "text": [
            "\r 18%|█▊        | 44/250 [02:39<12:26,  3.63s/it]"
          ]
        },
        {
          "output_type": "stream",
          "name": "stdout",
          "text": [
            "Time remaining for completion is :7.1Min\n",
            "Epoch: 43, Batch: 34, Loss: 0.3904739507607051\n"
          ]
        },
        {
          "output_type": "stream",
          "name": "stderr",
          "text": [
            "\r 18%|█▊        | 45/250 [02:43<12:22,  3.62s/it]"
          ]
        },
        {
          "output_type": "stream",
          "name": "stdout",
          "text": [
            "Time remaining for completion is :7.0Min\n",
            "Epoch: 44, Batch: 34, Loss: 0.38829429575375146\n"
          ]
        },
        {
          "output_type": "stream",
          "name": "stderr",
          "text": [
            "\r 18%|█▊        | 46/250 [02:46<12:19,  3.62s/it]"
          ]
        },
        {
          "output_type": "stream",
          "name": "stdout",
          "text": [
            "Time remaining for completion is :6.9Min\n",
            "Epoch: 45, Batch: 34, Loss: 0.38586937870298116\n"
          ]
        },
        {
          "output_type": "stream",
          "name": "stderr",
          "text": [
            "\r 19%|█▉        | 47/250 [02:50<12:16,  3.63s/it]"
          ]
        },
        {
          "output_type": "stream",
          "name": "stdout",
          "text": [
            "Time remaining for completion is :6.9Min\n",
            "Epoch: 46, Batch: 34, Loss: 0.3868618675640651\n"
          ]
        },
        {
          "output_type": "stream",
          "name": "stderr",
          "text": [
            "\r 19%|█▉        | 48/250 [02:54<12:12,  3.62s/it]"
          ]
        },
        {
          "output_type": "stream",
          "name": "stdout",
          "text": [
            "Time remaining for completion is :6.8Min\n",
            "Epoch: 47, Batch: 34, Loss: 0.3817076061453138\n"
          ]
        },
        {
          "output_type": "stream",
          "name": "stderr",
          "text": [
            "\r 20%|█▉        | 49/250 [02:57<12:11,  3.64s/it]"
          ]
        },
        {
          "output_type": "stream",
          "name": "stdout",
          "text": [
            "Time remaining for completion is :6.8Min\n",
            "Epoch: 48, Batch: 34, Loss: 0.38065844433648244\n"
          ]
        },
        {
          "output_type": "stream",
          "name": "stderr",
          "text": [
            "\r 20%|██        | 50/250 [03:01<12:04,  3.62s/it]"
          ]
        },
        {
          "output_type": "stream",
          "name": "stdout",
          "text": [
            "Time remaining for completion is :6.6Min\n",
            "Epoch: 49, Batch: 34, Loss: 0.37848766957010543\n"
          ]
        },
        {
          "output_type": "stream",
          "name": "stderr",
          "text": [
            "\r 20%|██        | 51/250 [03:05<12:00,  3.62s/it]"
          ]
        },
        {
          "output_type": "stream",
          "name": "stdout",
          "text": [
            "Time remaining for completion is :6.6Min\n",
            "Epoch: 50, Batch: 34, Loss: 0.3736086198261806\n"
          ]
        },
        {
          "output_type": "stream",
          "name": "stderr",
          "text": [
            "\r 21%|██        | 52/250 [03:08<11:59,  3.63s/it]"
          ]
        },
        {
          "output_type": "stream",
          "name": "stdout",
          "text": [
            "Time remaining for completion is :6.7Min\n",
            "Epoch: 51, Batch: 34, Loss: 0.36359748031411854\n"
          ]
        },
        {
          "output_type": "stream",
          "name": "stderr",
          "text": [
            "\r 21%|██        | 53/250 [03:12<11:55,  3.63s/it]"
          ]
        },
        {
          "output_type": "stream",
          "name": "stdout",
          "text": [
            "Time remaining for completion is :6.5Min\n",
            "Epoch: 52, Batch: 34, Loss: 0.3632318254028048\n"
          ]
        },
        {
          "output_type": "stream",
          "name": "stderr",
          "text": [
            "\r 22%|██▏       | 54/250 [03:15<11:50,  3.63s/it]"
          ]
        },
        {
          "output_type": "stream",
          "name": "stdout",
          "text": [
            "Time remaining for completion is :6.4Min\n",
            "Epoch: 53, Batch: 34, Loss: 0.35775614934308186\n"
          ]
        },
        {
          "output_type": "stream",
          "name": "stderr",
          "text": [
            "\r 22%|██▏       | 55/250 [03:19<11:46,  3.62s/it]"
          ]
        },
        {
          "output_type": "stream",
          "name": "stdout",
          "text": [
            "Time remaining for completion is :6.4Min\n",
            "Epoch: 54, Batch: 34, Loss: 0.3508154034614563\n"
          ]
        },
        {
          "output_type": "stream",
          "name": "stderr",
          "text": [
            "\r 22%|██▏       | 56/250 [03:23<11:44,  3.63s/it]"
          ]
        },
        {
          "output_type": "stream",
          "name": "stdout",
          "text": [
            "Time remaining for completion is :6.4Min\n",
            "Epoch: 55, Batch: 34, Loss: 0.3491341288600649\n"
          ]
        },
        {
          "output_type": "stream",
          "name": "stderr",
          "text": [
            "\r 23%|██▎       | 57/250 [03:26<11:40,  3.63s/it]"
          ]
        },
        {
          "output_type": "stream",
          "name": "stdout",
          "text": [
            "Time remaining for completion is :6.3Min\n",
            "Epoch: 56, Batch: 34, Loss: 0.34688541974340165\n"
          ]
        },
        {
          "output_type": "stream",
          "name": "stderr",
          "text": [
            "\r 23%|██▎       | 58/250 [03:30<11:38,  3.64s/it]"
          ]
        },
        {
          "output_type": "stream",
          "name": "stdout",
          "text": [
            "Time remaining for completion is :6.3Min\n",
            "Epoch: 57, Batch: 34, Loss: 0.34418564779417854\n"
          ]
        },
        {
          "output_type": "stream",
          "name": "stderr",
          "text": [
            "\r 24%|██▎       | 59/250 [03:34<11:32,  3.63s/it]"
          ]
        },
        {
          "output_type": "stream",
          "name": "stdout",
          "text": [
            "Time remaining for completion is :6.1Min\n",
            "Epoch: 58, Batch: 34, Loss: 0.3377658247947693\n"
          ]
        },
        {
          "output_type": "stream",
          "name": "stderr",
          "text": [
            "\r 24%|██▍       | 60/250 [03:37<11:29,  3.63s/it]"
          ]
        },
        {
          "output_type": "stream",
          "name": "stdout",
          "text": [
            "Time remaining for completion is :6.1Min\n",
            "Epoch: 59, Batch: 34, Loss: 0.3314480253628322\n"
          ]
        },
        {
          "output_type": "stream",
          "name": "stderr",
          "text": [
            "\r 24%|██▍       | 61/250 [03:41<11:27,  3.64s/it]"
          ]
        },
        {
          "output_type": "stream",
          "name": "stdout",
          "text": [
            "Time remaining for completion is :6.1Min\n",
            "Epoch: 60, Batch: 34, Loss: 0.32550274814878194\n"
          ]
        },
        {
          "output_type": "stream",
          "name": "stderr",
          "text": [
            "\r 25%|██▍       | 62/250 [03:44<11:22,  3.63s/it]"
          ]
        },
        {
          "output_type": "stream",
          "name": "stdout",
          "text": [
            "Time remaining for completion is :6.0Min\n",
            "Epoch: 61, Batch: 34, Loss: 0.3196899460894721\n"
          ]
        },
        {
          "output_type": "stream",
          "name": "stderr",
          "text": [
            "\r 25%|██▌       | 63/250 [03:48<11:19,  3.63s/it]"
          ]
        },
        {
          "output_type": "stream",
          "name": "stdout",
          "text": [
            "Time remaining for completion is :5.9Min\n",
            "Epoch: 62, Batch: 34, Loss: 0.3149602851697377\n"
          ]
        },
        {
          "output_type": "stream",
          "name": "stderr",
          "text": [
            "\r 26%|██▌       | 64/250 [03:52<11:15,  3.63s/it]"
          ]
        },
        {
          "output_type": "stream",
          "name": "stdout",
          "text": [
            "Time remaining for completion is :5.9Min\n",
            "Epoch: 63, Batch: 34, Loss: 0.31388559980051856\n"
          ]
        },
        {
          "output_type": "stream",
          "name": "stderr",
          "text": [
            "\r 26%|██▌       | 65/250 [03:55<11:12,  3.63s/it]"
          ]
        },
        {
          "output_type": "stream",
          "name": "stdout",
          "text": [
            "Time remaining for completion is :5.8Min\n",
            "Epoch: 64, Batch: 34, Loss: 0.30715174419539315\n"
          ]
        },
        {
          "output_type": "stream",
          "name": "stderr",
          "text": [
            "\r 26%|██▋       | 66/250 [03:59<11:06,  3.62s/it]"
          ]
        },
        {
          "output_type": "stream",
          "name": "stdout",
          "text": [
            "Time remaining for completion is :5.7Min\n",
            "Epoch: 65, Batch: 34, Loss: 0.3084816238709858\n"
          ]
        },
        {
          "output_type": "stream",
          "name": "stderr",
          "text": [
            "\r 27%|██▋       | 67/250 [04:03<11:01,  3.61s/it]"
          ]
        },
        {
          "output_type": "stream",
          "name": "stdout",
          "text": [
            "Time remaining for completion is :5.6Min\n",
            "Epoch: 66, Batch: 34, Loss: 0.3009125990527017\n"
          ]
        },
        {
          "output_type": "stream",
          "name": "stderr",
          "text": [
            "\r 27%|██▋       | 68/250 [04:06<10:59,  3.62s/it]"
          ]
        },
        {
          "output_type": "stream",
          "name": "stdout",
          "text": [
            "Time remaining for completion is :5.6Min\n",
            "Epoch: 67, Batch: 34, Loss: 0.30896918645926885\n"
          ]
        },
        {
          "output_type": "stream",
          "name": "stderr",
          "text": [
            "\r 28%|██▊       | 69/250 [04:10<10:54,  3.62s/it]"
          ]
        },
        {
          "output_type": "stream",
          "name": "stdout",
          "text": [
            "Time remaining for completion is :5.5Min\n",
            "Epoch: 68, Batch: 34, Loss: 0.299115954552378\n"
          ]
        },
        {
          "output_type": "stream",
          "name": "stderr",
          "text": [
            "\r 28%|██▊       | 70/250 [04:13<10:50,  3.62s/it]"
          ]
        },
        {
          "output_type": "stream",
          "name": "stdout",
          "text": [
            "Time remaining for completion is :5.5Min\n",
            "Epoch: 69, Batch: 34, Loss: 0.29781379742281777\n"
          ]
        },
        {
          "output_type": "stream",
          "name": "stderr",
          "text": [
            "\r 28%|██▊       | 71/250 [04:17<10:51,  3.64s/it]"
          ]
        },
        {
          "output_type": "stream",
          "name": "stdout",
          "text": [
            "Time remaining for completion is :5.5Min\n",
            "Epoch: 70, Batch: 34, Loss: 0.2878717878035137\n"
          ]
        },
        {
          "output_type": "stream",
          "name": "stderr",
          "text": [
            "\r 29%|██▉       | 72/250 [04:21<10:46,  3.63s/it]"
          ]
        },
        {
          "output_type": "stream",
          "name": "stdout",
          "text": [
            "Time remaining for completion is :5.4Min\n",
            "Epoch: 71, Batch: 34, Loss: 0.27566068768501284\n"
          ]
        },
        {
          "output_type": "stream",
          "name": "stderr",
          "text": [
            "\r 29%|██▉       | 73/250 [04:24<10:43,  3.63s/it]"
          ]
        },
        {
          "output_type": "stream",
          "name": "stdout",
          "text": [
            "Time remaining for completion is :5.3Min\n",
            "Epoch: 72, Batch: 34, Loss: 0.2648965724876949\n"
          ]
        },
        {
          "output_type": "stream",
          "name": "stderr",
          "text": [
            "\r 30%|██▉       | 74/250 [04:28<10:38,  3.63s/it]"
          ]
        },
        {
          "output_type": "stream",
          "name": "stdout",
          "text": [
            "Time remaining for completion is :5.2Min\n",
            "Epoch: 73, Batch: 34, Loss: 0.2516305927719389\n"
          ]
        },
        {
          "output_type": "stream",
          "name": "stderr",
          "text": [
            "\r 30%|███       | 75/250 [04:32<10:34,  3.63s/it]"
          ]
        },
        {
          "output_type": "stream",
          "name": "stdout",
          "text": [
            "Time remaining for completion is :5.2Min\n",
            "Epoch: 74, Batch: 34, Loss: 0.24240814319678716\n"
          ]
        },
        {
          "output_type": "stream",
          "name": "stderr",
          "text": [
            "\r 30%|███       | 76/250 [04:35<10:30,  3.62s/it]"
          ]
        },
        {
          "output_type": "stream",
          "name": "stdout",
          "text": [
            "Time remaining for completion is :5.1Min\n",
            "Epoch: 75, Batch: 34, Loss: 0.2351265251636505\n"
          ]
        },
        {
          "output_type": "stream",
          "name": "stderr",
          "text": [
            "\r 31%|███       | 77/250 [04:39<10:27,  3.62s/it]"
          ]
        },
        {
          "output_type": "stream",
          "name": "stdout",
          "text": [
            "Time remaining for completion is :5.1Min\n",
            "Epoch: 76, Batch: 34, Loss: 0.22798067395176205\n"
          ]
        },
        {
          "output_type": "stream",
          "name": "stderr",
          "text": [
            "\r 31%|███       | 78/250 [04:42<10:24,  3.63s/it]"
          ]
        },
        {
          "output_type": "stream",
          "name": "stdout",
          "text": [
            "Time remaining for completion is :5.0Min\n",
            "Epoch: 77, Batch: 34, Loss: 0.23507215423243386\n"
          ]
        },
        {
          "output_type": "stream",
          "name": "stderr",
          "text": [
            "\r 32%|███▏      | 79/250 [04:46<10:21,  3.64s/it]"
          ]
        },
        {
          "output_type": "stream",
          "name": "stdout",
          "text": [
            "Time remaining for completion is :5.0Min\n",
            "Epoch: 78, Batch: 34, Loss: 0.24780636302062442\n"
          ]
        },
        {
          "output_type": "stream",
          "name": "stderr",
          "text": [
            "\r 32%|███▏      | 80/250 [04:50<10:17,  3.63s/it]"
          ]
        },
        {
          "output_type": "stream",
          "name": "stdout",
          "text": [
            "Time remaining for completion is :4.9Min\n",
            "Epoch: 79, Batch: 34, Loss: 0.23999409867184504\n"
          ]
        },
        {
          "output_type": "stream",
          "name": "stderr",
          "text": [
            "\r 32%|███▏      | 81/250 [04:53<10:14,  3.64s/it]"
          ]
        },
        {
          "output_type": "stream",
          "name": "stdout",
          "text": [
            "Time remaining for completion is :4.9Min\n",
            "Epoch: 80, Batch: 34, Loss: 0.22392677515745163\n"
          ]
        },
        {
          "output_type": "stream",
          "name": "stderr",
          "text": [
            "\r 33%|███▎      | 82/250 [04:57<10:10,  3.63s/it]"
          ]
        },
        {
          "output_type": "stream",
          "name": "stdout",
          "text": [
            "Time remaining for completion is :4.8Min\n",
            "Epoch: 81, Batch: 34, Loss: 0.21887649872473308\n"
          ]
        },
        {
          "output_type": "stream",
          "name": "stderr",
          "text": [
            "\r 33%|███▎      | 83/250 [05:01<10:06,  3.63s/it]"
          ]
        },
        {
          "output_type": "stream",
          "name": "stdout",
          "text": [
            "Time remaining for completion is :4.7Min\n",
            "Epoch: 82, Batch: 34, Loss: 0.20823860509055\n"
          ]
        },
        {
          "output_type": "stream",
          "name": "stderr",
          "text": [
            "\r 34%|███▎      | 84/250 [05:04<10:03,  3.64s/it]"
          ]
        },
        {
          "output_type": "stream",
          "name": "stdout",
          "text": [
            "Time remaining for completion is :4.7Min\n",
            "Epoch: 83, Batch: 34, Loss: 0.20195599155766622\n"
          ]
        },
        {
          "output_type": "stream",
          "name": "stderr",
          "text": [
            "\r 34%|███▍      | 85/250 [05:08<09:58,  3.63s/it]"
          ]
        },
        {
          "output_type": "stream",
          "name": "stdout",
          "text": [
            "Time remaining for completion is :4.6Min\n",
            "Epoch: 84, Batch: 34, Loss: 0.1958204250250544\n"
          ]
        },
        {
          "output_type": "stream",
          "name": "stderr",
          "text": [
            "\r 34%|███▍      | 86/250 [05:12<09:55,  3.63s/it]"
          ]
        },
        {
          "output_type": "stream",
          "name": "stdout",
          "text": [
            "Time remaining for completion is :4.6Min\n",
            "Epoch: 85, Batch: 34, Loss: 0.19426325112581252\n"
          ]
        },
        {
          "output_type": "stream",
          "name": "stderr",
          "text": [
            "\r 35%|███▍      | 87/250 [05:15<09:50,  3.62s/it]"
          ]
        },
        {
          "output_type": "stream",
          "name": "stdout",
          "text": [
            "Time remaining for completion is :4.4Min\n",
            "Epoch: 86, Batch: 34, Loss: 0.18779923702989307\n"
          ]
        },
        {
          "output_type": "stream",
          "name": "stderr",
          "text": [
            "\r 35%|███▌      | 88/250 [05:19<09:47,  3.62s/it]"
          ]
        },
        {
          "output_type": "stream",
          "name": "stdout",
          "text": [
            "Time remaining for completion is :4.4Min\n",
            "Epoch: 87, Batch: 34, Loss: 0.1904164358973503\n"
          ]
        },
        {
          "output_type": "stream",
          "name": "stderr",
          "text": [
            "\r 36%|███▌      | 89/250 [05:22<09:43,  3.62s/it]"
          ]
        },
        {
          "output_type": "stream",
          "name": "stdout",
          "text": [
            "Time remaining for completion is :4.4Min\n",
            "Epoch: 88, Batch: 34, Loss: 0.18241750448942184\n"
          ]
        },
        {
          "output_type": "stream",
          "name": "stderr",
          "text": [
            "\r 36%|███▌      | 90/250 [05:26<09:38,  3.61s/it]"
          ]
        },
        {
          "output_type": "stream",
          "name": "stdout",
          "text": [
            "Time remaining for completion is :4.2Min\n",
            "Epoch: 89, Batch: 34, Loss: 0.17396286023514612\n"
          ]
        },
        {
          "output_type": "stream",
          "name": "stderr",
          "text": [
            "\r 36%|███▋      | 91/250 [05:30<09:36,  3.62s/it]"
          ]
        },
        {
          "output_type": "stream",
          "name": "stdout",
          "text": [
            "Time remaining for completion is :4.3Min\n",
            "Epoch: 90, Batch: 34, Loss: 0.16557633791651044\n"
          ]
        },
        {
          "output_type": "stream",
          "name": "stderr",
          "text": [
            "\r 37%|███▋      | 92/250 [05:33<09:31,  3.61s/it]"
          ]
        },
        {
          "output_type": "stream",
          "name": "stdout",
          "text": [
            "Time remaining for completion is :4.1Min\n",
            "Epoch: 91, Batch: 34, Loss: 0.15663077001060757\n"
          ]
        },
        {
          "output_type": "stream",
          "name": "stderr",
          "text": [
            "\r 37%|███▋      | 93/250 [05:37<09:28,  3.62s/it]"
          ]
        },
        {
          "output_type": "stream",
          "name": "stdout",
          "text": [
            "Time remaining for completion is :4.1Min\n",
            "Epoch: 92, Batch: 34, Loss: 0.1693119701530252\n"
          ]
        },
        {
          "output_type": "stream",
          "name": "stderr",
          "text": [
            "\r 38%|███▊      | 94/250 [05:41<09:27,  3.64s/it]"
          ]
        },
        {
          "output_type": "stream",
          "name": "stdout",
          "text": [
            "Time remaining for completion is :4.1Min\n",
            "Epoch: 93, Batch: 34, Loss: 0.18114680924585888\n"
          ]
        },
        {
          "output_type": "stream",
          "name": "stderr",
          "text": [
            "\r 38%|███▊      | 95/250 [05:44<09:26,  3.65s/it]"
          ]
        },
        {
          "output_type": "stream",
          "name": "stdout",
          "text": [
            "Time remaining for completion is :4.1Min\n",
            "Epoch: 94, Batch: 34, Loss: 0.1627972463411944\n"
          ]
        },
        {
          "output_type": "stream",
          "name": "stderr",
          "text": [
            "\r 38%|███▊      | 96/250 [05:48<09:21,  3.64s/it]"
          ]
        },
        {
          "output_type": "stream",
          "name": "stdout",
          "text": [
            "Time remaining for completion is :3.9Min\n",
            "Epoch: 95, Batch: 34, Loss: 0.14983961528965406\n"
          ]
        },
        {
          "output_type": "stream",
          "name": "stderr",
          "text": [
            "\r 39%|███▉      | 97/250 [05:51<09:16,  3.64s/it]"
          ]
        },
        {
          "output_type": "stream",
          "name": "stdout",
          "text": [
            "Time remaining for completion is :3.9Min\n",
            "Epoch: 96, Batch: 34, Loss: 0.13647786559803146\n"
          ]
        },
        {
          "output_type": "stream",
          "name": "stderr",
          "text": [
            "\r 39%|███▉      | 98/250 [05:55<09:11,  3.63s/it]"
          ]
        },
        {
          "output_type": "stream",
          "name": "stdout",
          "text": [
            "Time remaining for completion is :3.8Min\n",
            "Epoch: 97, Batch: 34, Loss: 0.13195999339222908\n"
          ]
        },
        {
          "output_type": "stream",
          "name": "stderr",
          "text": [
            "\r 40%|███▉      | 99/250 [05:59<09:06,  3.62s/it]"
          ]
        },
        {
          "output_type": "stream",
          "name": "stdout",
          "text": [
            "Time remaining for completion is :3.7Min\n",
            "Epoch: 98, Batch: 34, Loss: 0.12508979556815966\n"
          ]
        },
        {
          "output_type": "stream",
          "name": "stderr",
          "text": [
            "\r 40%|████      | 100/250 [06:02<09:04,  3.63s/it]"
          ]
        },
        {
          "output_type": "stream",
          "name": "stdout",
          "text": [
            "Time remaining for completion is :3.7Min\n",
            "Epoch: 99, Batch: 34, Loss: 0.12289752566388674\n"
          ]
        },
        {
          "output_type": "stream",
          "name": "stderr",
          "text": [
            "\r 40%|████      | 101/250 [06:06<08:59,  3.62s/it]"
          ]
        },
        {
          "output_type": "stream",
          "name": "stdout",
          "text": [
            "Time remaining for completion is :3.6Min\n",
            "Epoch: 100, Batch: 34, Loss: 0.11740438863635064\n"
          ]
        },
        {
          "output_type": "stream",
          "name": "stderr",
          "text": [
            "\r 41%|████      | 102/250 [06:10<08:55,  3.62s/it]"
          ]
        },
        {
          "output_type": "stream",
          "name": "stdout",
          "text": [
            "Time remaining for completion is :3.5Min\n",
            "Epoch: 101, Batch: 34, Loss: 0.10687611198851041\n"
          ]
        },
        {
          "output_type": "stream",
          "name": "stderr",
          "text": [
            "\r 41%|████      | 103/250 [06:13<08:50,  3.61s/it]"
          ]
        },
        {
          "output_type": "stream",
          "name": "stdout",
          "text": [
            "Time remaining for completion is :3.5Min\n",
            "Epoch: 102, Batch: 34, Loss: 0.09843213504978589\n"
          ]
        },
        {
          "output_type": "stream",
          "name": "stderr",
          "text": [
            "\r 42%|████▏     | 104/250 [06:17<08:46,  3.61s/it]"
          ]
        },
        {
          "output_type": "stream",
          "name": "stdout",
          "text": [
            "Time remaining for completion is :3.4Min\n",
            "Epoch: 103, Batch: 34, Loss: 0.09574411841375487\n"
          ]
        },
        {
          "output_type": "stream",
          "name": "stderr",
          "text": [
            "\r 42%|████▏     | 105/250 [06:20<08:42,  3.60s/it]"
          ]
        },
        {
          "output_type": "stream",
          "name": "stdout",
          "text": [
            "Time remaining for completion is :3.4Min\n",
            "Epoch: 104, Batch: 34, Loss: 0.0897738007562501\n"
          ]
        },
        {
          "output_type": "stream",
          "name": "stderr",
          "text": [
            "\r 42%|████▏     | 106/250 [06:24<08:38,  3.60s/it]"
          ]
        },
        {
          "output_type": "stream",
          "name": "stdout",
          "text": [
            "Time remaining for completion is :3.3Min\n",
            "Epoch: 105, Batch: 34, Loss: 0.08273586199751921\n"
          ]
        },
        {
          "output_type": "stream",
          "name": "stderr",
          "text": [
            "\r 43%|████▎     | 107/250 [06:28<08:34,  3.60s/it]"
          ]
        },
        {
          "output_type": "stream",
          "name": "stdout",
          "text": [
            "Time remaining for completion is :3.2Min\n",
            "Epoch: 106, Batch: 34, Loss: 0.08204786974404539\n"
          ]
        },
        {
          "output_type": "stream",
          "name": "stderr",
          "text": [
            "\r 43%|████▎     | 108/250 [06:31<08:30,  3.60s/it]"
          ]
        },
        {
          "output_type": "stream",
          "name": "stdout",
          "text": [
            "Time remaining for completion is :3.2Min\n",
            "Epoch: 107, Batch: 34, Loss: 0.07826224373919623\n"
          ]
        },
        {
          "output_type": "stream",
          "name": "stderr",
          "text": [
            "\r 44%|████▎     | 109/250 [06:35<08:27,  3.60s/it]"
          ]
        },
        {
          "output_type": "stream",
          "name": "stdout",
          "text": [
            "Time remaining for completion is :3.1Min\n",
            "Epoch: 108, Batch: 34, Loss: 0.07440939343401363\n"
          ]
        },
        {
          "output_type": "stream",
          "name": "stderr",
          "text": [
            "\r 44%|████▍     | 110/250 [06:38<08:25,  3.61s/it]"
          ]
        },
        {
          "output_type": "stream",
          "name": "stdout",
          "text": [
            "Time remaining for completion is :3.1Min\n",
            "Epoch: 109, Batch: 34, Loss: 0.06851770313722746\n"
          ]
        },
        {
          "output_type": "stream",
          "name": "stderr",
          "text": [
            "\r 44%|████▍     | 111/250 [06:42<08:20,  3.60s/it]"
          ]
        },
        {
          "output_type": "stream",
          "name": "stdout",
          "text": [
            "Time remaining for completion is :3.0Min\n",
            "Epoch: 110, Batch: 34, Loss: 0.0644121017307043\n"
          ]
        },
        {
          "output_type": "stream",
          "name": "stderr",
          "text": [
            "\r 45%|████▍     | 112/250 [06:46<08:17,  3.60s/it]"
          ]
        },
        {
          "output_type": "stream",
          "name": "stdout",
          "text": [
            "Time remaining for completion is :2.9Min\n",
            "Epoch: 111, Batch: 34, Loss: 0.060990255113158906\n"
          ]
        },
        {
          "output_type": "stream",
          "name": "stderr",
          "text": [
            "\r 45%|████▌     | 113/250 [06:49<08:14,  3.61s/it]"
          ]
        },
        {
          "output_type": "stream",
          "name": "stdout",
          "text": [
            "Time remaining for completion is :2.9Min\n",
            "Epoch: 112, Batch: 34, Loss: 0.061835721454450064\n"
          ]
        },
        {
          "output_type": "stream",
          "name": "stderr",
          "text": [
            "\r 46%|████▌     | 114/250 [06:53<08:10,  3.60s/it]"
          ]
        },
        {
          "output_type": "stream",
          "name": "stdout",
          "text": [
            "Time remaining for completion is :2.8Min\n",
            "Epoch: 113, Batch: 34, Loss: 0.05732193174106734\n"
          ]
        },
        {
          "output_type": "stream",
          "name": "stderr",
          "text": [
            "\r 46%|████▌     | 115/250 [06:56<08:06,  3.60s/it]"
          ]
        },
        {
          "output_type": "stream",
          "name": "stdout",
          "text": [
            "Time remaining for completion is :2.8Min\n",
            "Epoch: 114, Batch: 34, Loss: 0.05229545044047492\n"
          ]
        },
        {
          "output_type": "stream",
          "name": "stderr",
          "text": [
            "\r 46%|████▋     | 116/250 [07:00<08:02,  3.60s/it]"
          ]
        },
        {
          "output_type": "stream",
          "name": "stdout",
          "text": [
            "Time remaining for completion is :2.7Min\n",
            "Epoch: 115, Batch: 34, Loss: 0.04863034071666854\n"
          ]
        },
        {
          "output_type": "stream",
          "name": "stderr",
          "text": [
            "\r 47%|████▋     | 117/250 [07:04<07:59,  3.60s/it]"
          ]
        },
        {
          "output_type": "stream",
          "name": "stdout",
          "text": [
            "Time remaining for completion is :2.6Min\n",
            "Epoch: 116, Batch: 34, Loss: 0.04453533164092473\n"
          ]
        },
        {
          "output_type": "stream",
          "name": "stderr",
          "text": [
            "\r 47%|████▋     | 118/250 [07:07<07:55,  3.60s/it]"
          ]
        },
        {
          "output_type": "stream",
          "name": "stdout",
          "text": [
            "Time remaining for completion is :2.6Min\n",
            "Epoch: 117, Batch: 34, Loss: 0.042157900705933574\n"
          ]
        },
        {
          "output_type": "stream",
          "name": "stderr",
          "text": [
            "\r 48%|████▊     | 119/250 [07:11<07:52,  3.61s/it]"
          ]
        },
        {
          "output_type": "stream",
          "name": "stdout",
          "text": [
            "Time remaining for completion is :2.5Min\n",
            "Epoch: 118, Batch: 34, Loss: 0.04046411237546376\n"
          ]
        },
        {
          "output_type": "stream",
          "name": "stderr",
          "text": [
            "\r 48%|████▊     | 120/250 [07:14<07:49,  3.61s/it]"
          ]
        },
        {
          "output_type": "stream",
          "name": "stdout",
          "text": [
            "Time remaining for completion is :2.5Min\n",
            "Epoch: 119, Batch: 34, Loss: 0.03782117132629667\n"
          ]
        },
        {
          "output_type": "stream",
          "name": "stderr",
          "text": [
            "\r 48%|████▊     | 121/250 [07:18<07:45,  3.60s/it]"
          ]
        },
        {
          "output_type": "stream",
          "name": "stdout",
          "text": [
            "Time remaining for completion is :2.4Min\n",
            "Epoch: 120, Batch: 34, Loss: 0.03633942827582359\n"
          ]
        },
        {
          "output_type": "stream",
          "name": "stderr",
          "text": [
            "\r 49%|████▉     | 122/250 [07:22<07:42,  3.62s/it]"
          ]
        },
        {
          "output_type": "stream",
          "name": "stdout",
          "text": [
            "Time remaining for completion is :2.4Min\n",
            "Epoch: 121, Batch: 34, Loss: 0.032575361004897524\n"
          ]
        },
        {
          "output_type": "stream",
          "name": "stderr",
          "text": [
            "\r 49%|████▉     | 123/250 [07:25<07:39,  3.62s/it]"
          ]
        },
        {
          "output_type": "stream",
          "name": "stdout",
          "text": [
            "Time remaining for completion is :2.3Min\n",
            "Epoch: 122, Batch: 34, Loss: 0.03000607088740383\n"
          ]
        },
        {
          "output_type": "stream",
          "name": "stderr",
          "text": [
            "\r 50%|████▉     | 124/250 [07:29<07:35,  3.61s/it]"
          ]
        },
        {
          "output_type": "stream",
          "name": "stdout",
          "text": [
            "Time remaining for completion is :2.2Min\n",
            "Epoch: 123, Batch: 34, Loss: 0.028558278935296194\n"
          ]
        },
        {
          "output_type": "stream",
          "name": "stderr",
          "text": [
            "\r 50%|█████     | 125/250 [07:32<07:31,  3.61s/it]"
          ]
        },
        {
          "output_type": "stream",
          "name": "stdout",
          "text": [
            "Time remaining for completion is :2.2Min\n",
            "Epoch: 124, Batch: 34, Loss: 0.02691516014082091\n"
          ]
        },
        {
          "output_type": "stream",
          "name": "stderr",
          "text": [
            "\r 50%|█████     | 126/250 [07:36<07:27,  3.61s/it]"
          ]
        },
        {
          "output_type": "stream",
          "name": "stdout",
          "text": [
            "Time remaining for completion is :2.1Min\n",
            "Epoch: 125, Batch: 34, Loss: 0.025174739131970065\n"
          ]
        },
        {
          "output_type": "stream",
          "name": "stderr",
          "text": [
            "\r 51%|█████     | 127/250 [07:40<07:23,  3.61s/it]"
          ]
        },
        {
          "output_type": "stream",
          "name": "stdout",
          "text": [
            "Time remaining for completion is :2.0Min\n",
            "Epoch: 126, Batch: 34, Loss: 0.023872244996683938\n"
          ]
        },
        {
          "output_type": "stream",
          "name": "stderr",
          "text": [
            "\r 51%|█████     | 128/250 [07:43<07:19,  3.60s/it]"
          ]
        },
        {
          "output_type": "stream",
          "name": "stdout",
          "text": [
            "Time remaining for completion is :2.0Min\n",
            "Epoch: 127, Batch: 34, Loss: 0.022781452696238245\n"
          ]
        },
        {
          "output_type": "stream",
          "name": "stderr",
          "text": [
            "\r 52%|█████▏    | 129/250 [07:47<07:17,  3.62s/it]"
          ]
        },
        {
          "output_type": "stream",
          "name": "stdout",
          "text": [
            "Time remaining for completion is :1.9Min\n",
            "Epoch: 128, Batch: 34, Loss: 0.022548574129385608\n"
          ]
        },
        {
          "output_type": "stream",
          "name": "stderr",
          "text": [
            "\r 52%|█████▏    | 130/250 [07:51<07:13,  3.61s/it]"
          ]
        },
        {
          "output_type": "stream",
          "name": "stdout",
          "text": [
            "Time remaining for completion is :1.9Min\n",
            "Epoch: 129, Batch: 34, Loss: 0.03333429774003369\n"
          ]
        },
        {
          "output_type": "stream",
          "name": "stderr",
          "text": [
            "\r 52%|█████▏    | 131/250 [07:54<07:08,  3.60s/it]"
          ]
        },
        {
          "output_type": "stream",
          "name": "stdout",
          "text": [
            "Time remaining for completion is :1.8Min\n",
            "Epoch: 130, Batch: 34, Loss: 0.05393639520875045\n"
          ]
        },
        {
          "output_type": "stream",
          "name": "stderr",
          "text": [
            "\r 53%|█████▎    | 132/250 [07:58<07:05,  3.61s/it]"
          ]
        },
        {
          "output_type": "stream",
          "name": "stdout",
          "text": [
            "Time remaining for completion is :1.7Min\n",
            "Epoch: 131, Batch: 34, Loss: 0.05696154795587063\n"
          ]
        },
        {
          "output_type": "stream",
          "name": "stderr",
          "text": [
            "\r 53%|█████▎    | 133/250 [08:01<07:01,  3.60s/it]"
          ]
        },
        {
          "output_type": "stream",
          "name": "stdout",
          "text": [
            "Time remaining for completion is :1.7Min\n",
            "Epoch: 132, Batch: 34, Loss: 0.05560461351914065\n"
          ]
        },
        {
          "output_type": "stream",
          "name": "stderr",
          "text": [
            "\r 54%|█████▎    | 134/250 [08:05<06:57,  3.60s/it]"
          ]
        },
        {
          "output_type": "stream",
          "name": "stdout",
          "text": [
            "Time remaining for completion is :1.6Min\n",
            "Epoch: 133, Batch: 34, Loss: 0.07671807924551623\n"
          ]
        },
        {
          "output_type": "stream",
          "name": "stderr",
          "text": [
            "\r 54%|█████▍    | 135/250 [08:09<06:54,  3.60s/it]"
          ]
        },
        {
          "output_type": "stream",
          "name": "stdout",
          "text": [
            "Time remaining for completion is :1.6Min\n",
            "Epoch: 134, Batch: 34, Loss: 0.10724214698587145\n"
          ]
        },
        {
          "output_type": "stream",
          "name": "stderr",
          "text": [
            "\r 54%|█████▍    | 136/250 [08:12<06:50,  3.60s/it]"
          ]
        },
        {
          "output_type": "stream",
          "name": "stdout",
          "text": [
            "Time remaining for completion is :1.5Min\n",
            "Epoch: 135, Batch: 34, Loss: 0.10307965416993414\n"
          ]
        },
        {
          "output_type": "stream",
          "name": "stderr",
          "text": [
            "\r 55%|█████▍    | 137/250 [08:16<06:47,  3.60s/it]"
          ]
        },
        {
          "output_type": "stream",
          "name": "stdout",
          "text": [
            "Time remaining for completion is :1.4Min\n",
            "Epoch: 136, Batch: 34, Loss: 0.08289103939064911\n"
          ]
        },
        {
          "output_type": "stream",
          "name": "stderr",
          "text": [
            "\r 55%|█████▌    | 138/250 [08:19<06:43,  3.60s/it]"
          ]
        },
        {
          "output_type": "stream",
          "name": "stdout",
          "text": [
            "Time remaining for completion is :1.4Min\n",
            "Epoch: 137, Batch: 34, Loss: 0.05111895592084953\n"
          ]
        },
        {
          "output_type": "stream",
          "name": "stderr",
          "text": [
            "\r 56%|█████▌    | 139/250 [08:23<06:40,  3.61s/it]"
          ]
        },
        {
          "output_type": "stream",
          "name": "stdout",
          "text": [
            "Time remaining for completion is :1.3Min\n",
            "Epoch: 138, Batch: 34, Loss: 0.03094806205481291\n"
          ]
        },
        {
          "output_type": "stream",
          "name": "stderr",
          "text": [
            "\r 56%|█████▌    | 140/250 [08:27<06:36,  3.60s/it]"
          ]
        },
        {
          "output_type": "stream",
          "name": "stdout",
          "text": [
            "Time remaining for completion is :1.3Min\n",
            "Epoch: 139, Batch: 34, Loss: 0.021119691804051398\n"
          ]
        },
        {
          "output_type": "stream",
          "name": "stderr",
          "text": [
            "\r 56%|█████▋    | 141/250 [08:30<06:32,  3.60s/it]"
          ]
        },
        {
          "output_type": "stream",
          "name": "stdout",
          "text": [
            "Time remaining for completion is :1.2Min\n",
            "Epoch: 140, Batch: 34, Loss: 0.0174549506178924\n"
          ]
        },
        {
          "output_type": "stream",
          "name": "stderr",
          "text": [
            "\r 57%|█████▋    | 142/250 [08:34<06:30,  3.61s/it]"
          ]
        },
        {
          "output_type": "stream",
          "name": "stdout",
          "text": [
            "Time remaining for completion is :1.2Min\n",
            "Epoch: 141, Batch: 34, Loss: 0.015287150535732508\n"
          ]
        },
        {
          "output_type": "stream",
          "name": "stderr",
          "text": [
            "\r 57%|█████▋    | 143/250 [08:37<06:25,  3.61s/it]"
          ]
        },
        {
          "output_type": "stream",
          "name": "stdout",
          "text": [
            "Time remaining for completion is :1.1Min\n",
            "Epoch: 142, Batch: 34, Loss: 0.014118781898702894\n"
          ]
        },
        {
          "output_type": "stream",
          "name": "stderr",
          "text": [
            "\r 58%|█████▊    | 144/250 [08:41<06:21,  3.60s/it]"
          ]
        },
        {
          "output_type": "stream",
          "name": "stdout",
          "text": [
            "Time remaining for completion is :1.0Min\n",
            "Epoch: 143, Batch: 34, Loss: 0.01338212987674134\n"
          ]
        },
        {
          "output_type": "stream",
          "name": "stderr",
          "text": [
            "\r 58%|█████▊    | 145/250 [08:45<06:18,  3.60s/it]"
          ]
        },
        {
          "output_type": "stream",
          "name": "stdout",
          "text": [
            "Time remaining for completion is :1.0Min\n",
            "Epoch: 144, Batch: 34, Loss: 0.012500116508454085\n"
          ]
        },
        {
          "output_type": "stream",
          "name": "stderr",
          "text": [
            "\r 58%|█████▊    | 146/250 [08:48<06:17,  3.63s/it]"
          ]
        },
        {
          "output_type": "stream",
          "name": "stdout",
          "text": [
            "Time remaining for completion is :0.9Min\n",
            "Epoch: 145, Batch: 34, Loss: 0.011768231727182865\n"
          ]
        },
        {
          "output_type": "stream",
          "name": "stderr",
          "text": [
            "\r 59%|█████▉    | 147/250 [08:52<06:13,  3.62s/it]"
          ]
        },
        {
          "output_type": "stream",
          "name": "stdout",
          "text": [
            "Time remaining for completion is :0.8Min\n",
            "Epoch: 146, Batch: 34, Loss: 0.01121264561744673\n"
          ]
        },
        {
          "output_type": "stream",
          "name": "stderr",
          "text": [
            "\r 59%|█████▉    | 148/250 [08:55<06:09,  3.62s/it]"
          ]
        },
        {
          "output_type": "stream",
          "name": "stdout",
          "text": [
            "Time remaining for completion is :0.8Min\n",
            "Epoch: 147, Batch: 34, Loss: 0.010820365989846842\n"
          ]
        },
        {
          "output_type": "stream",
          "name": "stderr",
          "text": [
            "\r 60%|█████▉    | 149/250 [08:59<06:06,  3.62s/it]"
          ]
        },
        {
          "output_type": "stream",
          "name": "stdout",
          "text": [
            "Time remaining for completion is :0.7Min\n",
            "Epoch: 148, Batch: 34, Loss: 0.010290123681936944\n"
          ]
        },
        {
          "output_type": "stream",
          "name": "stderr",
          "text": [
            "\r 60%|██████    | 150/250 [09:03<06:02,  3.62s/it]"
          ]
        },
        {
          "output_type": "stream",
          "name": "stdout",
          "text": [
            "Time remaining for completion is :0.7Min\n",
            "Epoch: 149, Batch: 34, Loss: 0.009805554976420744\n"
          ]
        },
        {
          "output_type": "stream",
          "name": "stderr",
          "text": [
            "\r 60%|██████    | 151/250 [09:06<05:57,  3.61s/it]"
          ]
        },
        {
          "output_type": "stream",
          "name": "stdout",
          "text": [
            "Time remaining for completion is :0.6Min\n",
            "Epoch: 150, Batch: 34, Loss: 0.009319019271060824\n"
          ]
        },
        {
          "output_type": "stream",
          "name": "stderr",
          "text": [
            "\r 61%|██████    | 152/250 [09:10<05:54,  3.62s/it]"
          ]
        },
        {
          "output_type": "stream",
          "name": "stdout",
          "text": [
            "Time remaining for completion is :0.5Min\n",
            "Epoch: 151, Batch: 34, Loss: 0.008923558837601117\n"
          ]
        },
        {
          "output_type": "stream",
          "name": "stderr",
          "text": [
            "\r 61%|██████    | 153/250 [09:14<05:50,  3.62s/it]"
          ]
        },
        {
          "output_type": "stream",
          "name": "stdout",
          "text": [
            "Time remaining for completion is :0.5Min\n",
            "Epoch: 152, Batch: 34, Loss: 0.008468486721228276\n"
          ]
        },
        {
          "output_type": "stream",
          "name": "stderr",
          "text": [
            "\r 62%|██████▏   | 154/250 [09:17<05:47,  3.62s/it]"
          ]
        },
        {
          "output_type": "stream",
          "name": "stdout",
          "text": [
            "Time remaining for completion is :0.4Min\n",
            "Epoch: 153, Batch: 34, Loss: 0.008175393087523325\n"
          ]
        },
        {
          "output_type": "stream",
          "name": "stderr",
          "text": [
            "\r 62%|██████▏   | 155/250 [09:21<05:44,  3.63s/it]"
          ]
        },
        {
          "output_type": "stream",
          "name": "stdout",
          "text": [
            "Time remaining for completion is :0.4Min\n",
            "Epoch: 154, Batch: 34, Loss: 0.007821749463411314\n"
          ]
        },
        {
          "output_type": "stream",
          "name": "stderr",
          "text": [
            "\r 62%|██████▏   | 156/250 [09:24<05:40,  3.62s/it]"
          ]
        },
        {
          "output_type": "stream",
          "name": "stdout",
          "text": [
            "Time remaining for completion is :0.3Min\n",
            "Epoch: 155, Batch: 34, Loss: 0.007483106319393431\n"
          ]
        },
        {
          "output_type": "stream",
          "name": "stderr",
          "text": [
            "\r 63%|██████▎   | 157/250 [09:28<05:37,  3.62s/it]"
          ]
        },
        {
          "output_type": "stream",
          "name": "stdout",
          "text": [
            "Time remaining for completion is :0.2Min\n",
            "Epoch: 156, Batch: 34, Loss: 0.007379006867163948\n"
          ]
        },
        {
          "output_type": "stream",
          "name": "stderr",
          "text": [
            "\r 63%|██████▎   | 158/250 [09:32<05:33,  3.63s/it]"
          ]
        },
        {
          "output_type": "stream",
          "name": "stdout",
          "text": [
            "Time remaining for completion is :0.2Min\n",
            "Epoch: 157, Batch: 34, Loss: 0.00707294992171228\n"
          ]
        },
        {
          "output_type": "stream",
          "name": "stderr",
          "text": [
            "\r 64%|██████▎   | 159/250 [09:35<05:30,  3.63s/it]"
          ]
        },
        {
          "output_type": "stream",
          "name": "stdout",
          "text": [
            "Time remaining for completion is :0.1Min\n",
            "Epoch: 158, Batch: 34, Loss: 0.006862645210432155\n"
          ]
        },
        {
          "output_type": "stream",
          "name": "stderr",
          "text": [
            "\r 64%|██████▍   | 160/250 [09:39<05:26,  3.63s/it]"
          ]
        },
        {
          "output_type": "stream",
          "name": "stdout",
          "text": [
            "Time remaining for completion is :0.1Min\n",
            "Epoch: 159, Batch: 34, Loss: 0.0067363792697766\n"
          ]
        },
        {
          "output_type": "stream",
          "name": "stderr",
          "text": [
            "\r 64%|██████▍   | 161/250 [09:43<05:23,  3.64s/it]"
          ]
        },
        {
          "output_type": "stream",
          "name": "stdout",
          "text": [
            "Time remaining for completion is :0.0Min\n",
            "Epoch: 160, Batch: 34, Loss: 0.006267430087817567\n"
          ]
        },
        {
          "output_type": "stream",
          "name": "stderr",
          "text": [
            "\r 65%|██████▍   | 162/250 [09:46<05:20,  3.64s/it]"
          ]
        },
        {
          "output_type": "stream",
          "name": "stdout",
          "text": [
            "Time remaining for completion is :-0.1Min\n",
            "Epoch: 161, Batch: 34, Loss: 0.00601542246794062\n"
          ]
        },
        {
          "output_type": "stream",
          "name": "stderr",
          "text": [
            "\r 65%|██████▌   | 163/250 [09:50<05:15,  3.63s/it]"
          ]
        },
        {
          "output_type": "stream",
          "name": "stdout",
          "text": [
            "Time remaining for completion is :-0.1Min\n",
            "Epoch: 162, Batch: 34, Loss: 0.005771133915654251\n"
          ]
        },
        {
          "output_type": "stream",
          "name": "stderr",
          "text": [
            "\r 66%|██████▌   | 164/250 [09:54<05:12,  3.64s/it]"
          ]
        },
        {
          "output_type": "stream",
          "name": "stdout",
          "text": [
            "Time remaining for completion is :-0.2Min\n",
            "Epoch: 163, Batch: 34, Loss: 0.005514361370088799\n"
          ]
        },
        {
          "output_type": "stream",
          "name": "stderr",
          "text": [
            "\r 66%|██████▌   | 165/250 [09:57<05:08,  3.63s/it]"
          ]
        },
        {
          "output_type": "stream",
          "name": "stdout",
          "text": [
            "Time remaining for completion is :-0.2Min\n",
            "Epoch: 164, Batch: 34, Loss: 0.005572940099851362\n"
          ]
        },
        {
          "output_type": "stream",
          "name": "stderr",
          "text": [
            "\r 66%|██████▋   | 166/250 [10:01<05:04,  3.63s/it]"
          ]
        },
        {
          "output_type": "stream",
          "name": "stdout",
          "text": [
            "Time remaining for completion is :-0.3Min\n",
            "Epoch: 165, Batch: 34, Loss: 0.005481673856931073\n"
          ]
        },
        {
          "output_type": "stream",
          "name": "stderr",
          "text": [
            "\r 67%|██████▋   | 167/250 [10:04<05:00,  3.62s/it]"
          ]
        },
        {
          "output_type": "stream",
          "name": "stdout",
          "text": [
            "Time remaining for completion is :-0.4Min\n",
            "Epoch: 166, Batch: 34, Loss: 0.0051476125339312215\n"
          ]
        },
        {
          "output_type": "stream",
          "name": "stderr",
          "text": [
            "\r 67%|██████▋   | 168/250 [10:08<04:58,  3.64s/it]"
          ]
        },
        {
          "output_type": "stream",
          "name": "stdout",
          "text": [
            "Time remaining for completion is :-0.4Min\n",
            "Epoch: 167, Batch: 34, Loss: 0.004925674539325493\n"
          ]
        },
        {
          "output_type": "stream",
          "name": "stderr",
          "text": [
            "\r 68%|██████▊   | 169/250 [10:12<04:53,  3.63s/it]"
          ]
        },
        {
          "output_type": "stream",
          "name": "stdout",
          "text": [
            "Time remaining for completion is :-0.5Min\n",
            "Epoch: 168, Batch: 34, Loss: 0.004714031570724079\n"
          ]
        },
        {
          "output_type": "stream",
          "name": "stderr",
          "text": [
            "\r 68%|██████▊   | 170/250 [10:15<04:49,  3.62s/it]"
          ]
        },
        {
          "output_type": "stream",
          "name": "stdout",
          "text": [
            "Time remaining for completion is :-0.5Min\n",
            "Epoch: 169, Batch: 34, Loss: 0.004569860823851611\n"
          ]
        },
        {
          "output_type": "stream",
          "name": "stderr",
          "text": [
            "\r 68%|██████▊   | 171/250 [10:19<04:46,  3.62s/it]"
          ]
        },
        {
          "output_type": "stream",
          "name": "stdout",
          "text": [
            "Time remaining for completion is :-0.6Min\n",
            "Epoch: 170, Batch: 34, Loss: 0.004437824325369937\n"
          ]
        },
        {
          "output_type": "stream",
          "name": "stderr",
          "text": [
            "\r 69%|██████▉   | 172/250 [10:23<04:42,  3.62s/it]"
          ]
        },
        {
          "output_type": "stream",
          "name": "stdout",
          "text": [
            "Time remaining for completion is :-0.7Min\n",
            "Epoch: 171, Batch: 34, Loss: 0.004275670205242932\n"
          ]
        },
        {
          "output_type": "stream",
          "name": "stderr",
          "text": [
            "\r 69%|██████▉   | 173/250 [10:26<04:38,  3.62s/it]"
          ]
        },
        {
          "output_type": "stream",
          "name": "stdout",
          "text": [
            "Time remaining for completion is :-0.7Min\n",
            "Epoch: 172, Batch: 34, Loss: 0.004108466307765671\n"
          ]
        },
        {
          "output_type": "stream",
          "name": "stderr",
          "text": [
            "\r 70%|██████▉   | 174/250 [10:30<04:35,  3.63s/it]"
          ]
        },
        {
          "output_type": "stream",
          "name": "stdout",
          "text": [
            "Time remaining for completion is :-0.8Min\n",
            "Epoch: 173, Batch: 34, Loss: 0.0039615020688091\n"
          ]
        },
        {
          "output_type": "stream",
          "name": "stderr",
          "text": [
            "\r 70%|███████   | 175/250 [10:33<04:32,  3.63s/it]"
          ]
        },
        {
          "output_type": "stream",
          "name": "stdout",
          "text": [
            "Time remaining for completion is :-0.8Min\n",
            "Epoch: 174, Batch: 34, Loss: 0.0038325042630146656\n"
          ]
        },
        {
          "output_type": "stream",
          "name": "stderr",
          "text": [
            "\r 70%|███████   | 176/250 [10:37<04:29,  3.64s/it]"
          ]
        },
        {
          "output_type": "stream",
          "name": "stdout",
          "text": [
            "Time remaining for completion is :-0.9Min\n",
            "Epoch: 175, Batch: 34, Loss: 0.00365253073895084\n"
          ]
        },
        {
          "output_type": "stream",
          "name": "stderr",
          "text": [
            "\r 71%|███████   | 177/250 [10:41<04:25,  3.64s/it]"
          ]
        },
        {
          "output_type": "stream",
          "name": "stdout",
          "text": [
            "Time remaining for completion is :-1.0Min\n",
            "Epoch: 176, Batch: 34, Loss: 0.003552877124665039\n"
          ]
        },
        {
          "output_type": "stream",
          "name": "stderr",
          "text": [
            "\r 71%|███████   | 178/250 [10:44<04:22,  3.65s/it]"
          ]
        },
        {
          "output_type": "stream",
          "name": "stdout",
          "text": [
            "Time remaining for completion is :-1.0Min\n",
            "Epoch: 177, Batch: 34, Loss: 0.003680177595067237\n"
          ]
        },
        {
          "output_type": "stream",
          "name": "stderr",
          "text": [
            "\r 72%|███████▏  | 179/250 [10:48<04:19,  3.65s/it]"
          ]
        },
        {
          "output_type": "stream",
          "name": "stdout",
          "text": [
            "Time remaining for completion is :-1.1Min\n",
            "Epoch: 178, Batch: 34, Loss: 0.003452074381389788\n"
          ]
        },
        {
          "output_type": "stream",
          "name": "stderr",
          "text": [
            "\r 72%|███████▏  | 180/250 [10:52<04:15,  3.65s/it]"
          ]
        },
        {
          "output_type": "stream",
          "name": "stdout",
          "text": [
            "Time remaining for completion is :-1.2Min\n",
            "Epoch: 179, Batch: 34, Loss: 0.0033512974424021584\n"
          ]
        },
        {
          "output_type": "stream",
          "name": "stderr",
          "text": [
            "\r 72%|███████▏  | 181/250 [10:55<04:11,  3.64s/it]"
          ]
        },
        {
          "output_type": "stream",
          "name": "stdout",
          "text": [
            "Time remaining for completion is :-1.2Min\n",
            "Epoch: 180, Batch: 34, Loss: 0.003156869828567973\n"
          ]
        },
        {
          "output_type": "stream",
          "name": "stderr",
          "text": [
            "\r 73%|███████▎  | 182/250 [10:59<04:06,  3.63s/it]"
          ]
        },
        {
          "output_type": "stream",
          "name": "stdout",
          "text": [
            "Time remaining for completion is :-1.3Min\n",
            "Epoch: 181, Batch: 34, Loss: 0.0030307616905442306\n"
          ]
        },
        {
          "output_type": "stream",
          "name": "stderr",
          "text": [
            "\r 73%|███████▎  | 183/250 [11:03<04:03,  3.63s/it]"
          ]
        },
        {
          "output_type": "stream",
          "name": "stdout",
          "text": [
            "Time remaining for completion is :-1.3Min\n",
            "Epoch: 182, Batch: 34, Loss: 0.003015496362266796\n"
          ]
        },
        {
          "output_type": "stream",
          "name": "stderr",
          "text": [
            "\r 74%|███████▎  | 184/250 [11:06<03:59,  3.63s/it]"
          ]
        },
        {
          "output_type": "stream",
          "name": "stdout",
          "text": [
            "Time remaining for completion is :-1.4Min\n",
            "Epoch: 183, Batch: 34, Loss: 0.0034293339221871323\n"
          ]
        },
        {
          "output_type": "stream",
          "name": "stderr",
          "text": [
            "\r 74%|███████▍  | 185/250 [11:10<03:55,  3.63s/it]"
          ]
        },
        {
          "output_type": "stream",
          "name": "stdout",
          "text": [
            "Time remaining for completion is :-1.4Min\n",
            "Epoch: 184, Batch: 34, Loss: 0.0031023691707689847\n"
          ]
        },
        {
          "output_type": "stream",
          "name": "stderr",
          "text": [
            "\r 74%|███████▍  | 186/250 [11:13<03:52,  3.63s/it]"
          ]
        },
        {
          "output_type": "stream",
          "name": "stdout",
          "text": [
            "Time remaining for completion is :-1.5Min\n",
            "Epoch: 185, Batch: 34, Loss: 0.0027446398212175285\n"
          ]
        },
        {
          "output_type": "stream",
          "name": "stderr",
          "text": [
            "\r 75%|███████▍  | 187/250 [11:17<03:49,  3.64s/it]"
          ]
        },
        {
          "output_type": "stream",
          "name": "stdout",
          "text": [
            "Time remaining for completion is :-1.6Min\n",
            "Epoch: 186, Batch: 34, Loss: 0.002573116737351354\n"
          ]
        },
        {
          "output_type": "stream",
          "name": "stderr",
          "text": [
            "\r 75%|███████▌  | 188/250 [11:21<03:44,  3.63s/it]"
          ]
        },
        {
          "output_type": "stream",
          "name": "stdout",
          "text": [
            "Time remaining for completion is :-1.6Min\n",
            "Epoch: 187, Batch: 34, Loss: 0.00245610937210066\n"
          ]
        },
        {
          "output_type": "stream",
          "name": "stderr",
          "text": [
            "\r 76%|███████▌  | 189/250 [11:24<03:40,  3.62s/it]"
          ]
        },
        {
          "output_type": "stream",
          "name": "stdout",
          "text": [
            "Time remaining for completion is :-1.7Min\n",
            "Epoch: 188, Batch: 34, Loss: 0.0024205805816953736\n"
          ]
        },
        {
          "output_type": "stream",
          "name": "stderr",
          "text": [
            "\r 76%|███████▌  | 190/250 [11:28<03:37,  3.62s/it]"
          ]
        },
        {
          "output_type": "stream",
          "name": "stdout",
          "text": [
            "Time remaining for completion is :-1.7Min\n",
            "Epoch: 189, Batch: 34, Loss: 0.0023078625423035453\n"
          ]
        },
        {
          "output_type": "stream",
          "name": "stderr",
          "text": [
            "\r 76%|███████▋  | 191/250 [11:32<03:33,  3.62s/it]"
          ]
        },
        {
          "output_type": "stream",
          "name": "stdout",
          "text": [
            "Time remaining for completion is :-1.8Min\n",
            "Epoch: 190, Batch: 34, Loss: 0.0022710566192732325\n"
          ]
        },
        {
          "output_type": "stream",
          "name": "stderr",
          "text": [
            "\r 77%|███████▋  | 192/250 [11:35<03:30,  3.62s/it]"
          ]
        },
        {
          "output_type": "stream",
          "name": "stdout",
          "text": [
            "Time remaining for completion is :-1.9Min\n",
            "Epoch: 191, Batch: 34, Loss: 0.0022580967101800656\n"
          ]
        },
        {
          "output_type": "stream",
          "name": "stderr",
          "text": [
            "\r 77%|███████▋  | 193/250 [11:39<03:26,  3.62s/it]"
          ]
        },
        {
          "output_type": "stream",
          "name": "stdout",
          "text": [
            "Time remaining for completion is :-1.9Min\n",
            "Epoch: 192, Batch: 34, Loss: 0.002148457175852465\n"
          ]
        },
        {
          "output_type": "stream",
          "name": "stderr",
          "text": [
            "\r 78%|███████▊  | 194/250 [11:42<03:22,  3.62s/it]"
          ]
        },
        {
          "output_type": "stream",
          "name": "stdout",
          "text": [
            "Time remaining for completion is :-2.0Min\n",
            "Epoch: 193, Batch: 34, Loss: 0.0020199110249190457\n"
          ]
        },
        {
          "output_type": "stream",
          "name": "stderr",
          "text": [
            "\r 78%|███████▊  | 195/250 [11:46<03:18,  3.61s/it]"
          ]
        },
        {
          "output_type": "stream",
          "name": "stdout",
          "text": [
            "Time remaining for completion is :-2.0Min\n",
            "Epoch: 194, Batch: 34, Loss: 0.0018808035396172531\n"
          ]
        },
        {
          "output_type": "stream",
          "name": "stderr",
          "text": [
            "\r 78%|███████▊  | 196/250 [11:50<03:15,  3.62s/it]"
          ]
        },
        {
          "output_type": "stream",
          "name": "stdout",
          "text": [
            "Time remaining for completion is :-2.1Min\n",
            "Epoch: 195, Batch: 34, Loss: 0.001778684461688889\n"
          ]
        },
        {
          "output_type": "stream",
          "name": "stderr",
          "text": [
            "\r 79%|███████▉  | 197/250 [11:53<03:12,  3.63s/it]"
          ]
        },
        {
          "output_type": "stream",
          "name": "stdout",
          "text": [
            "Time remaining for completion is :-2.2Min\n",
            "Epoch: 196, Batch: 34, Loss: 0.0017228033925805774\n"
          ]
        },
        {
          "output_type": "stream",
          "name": "stderr",
          "text": [
            "\r 79%|███████▉  | 198/250 [11:57<03:08,  3.62s/it]"
          ]
        },
        {
          "output_type": "stream",
          "name": "stdout",
          "text": [
            "Time remaining for completion is :-2.2Min\n",
            "Epoch: 197, Batch: 34, Loss: 0.0016759108153304883\n"
          ]
        },
        {
          "output_type": "stream",
          "name": "stderr",
          "text": [
            "\r 80%|███████▉  | 199/250 [12:01<03:04,  3.62s/it]"
          ]
        },
        {
          "output_type": "stream",
          "name": "stdout",
          "text": [
            "Time remaining for completion is :-2.3Min\n",
            "Epoch: 198, Batch: 34, Loss: 0.001592001031219427\n"
          ]
        },
        {
          "output_type": "stream",
          "name": "stderr",
          "text": [
            "\r 80%|████████  | 200/250 [12:04<03:01,  3.62s/it]"
          ]
        },
        {
          "output_type": "stream",
          "name": "stdout",
          "text": [
            "Time remaining for completion is :-2.4Min\n",
            "Epoch: 199, Batch: 34, Loss: 0.0015557278113971864\n"
          ]
        },
        {
          "output_type": "stream",
          "name": "stderr",
          "text": [
            "\r 80%|████████  | 201/250 [12:08<02:57,  3.62s/it]"
          ]
        },
        {
          "output_type": "stream",
          "name": "stdout",
          "text": [
            "Time remaining for completion is :-2.4Min\n",
            "Epoch: 200, Batch: 34, Loss: 0.0015188955668626086\n"
          ]
        },
        {
          "output_type": "stream",
          "name": "stderr",
          "text": [
            "\r 81%|████████  | 202/250 [12:11<02:53,  3.61s/it]"
          ]
        },
        {
          "output_type": "stream",
          "name": "stdout",
          "text": [
            "Time remaining for completion is :-2.5Min\n",
            "Epoch: 201, Batch: 34, Loss: 0.0014362719375640154\n"
          ]
        },
        {
          "output_type": "stream",
          "name": "stderr",
          "text": [
            "\r 81%|████████  | 203/250 [12:15<02:50,  3.62s/it]"
          ]
        },
        {
          "output_type": "stream",
          "name": "stdout",
          "text": [
            "Time remaining for completion is :-2.5Min\n",
            "Epoch: 202, Batch: 34, Loss: 0.001397446812396603\n"
          ]
        },
        {
          "output_type": "stream",
          "name": "stderr",
          "text": [
            "\r 82%|████████▏ | 204/250 [12:19<02:46,  3.61s/it]"
          ]
        },
        {
          "output_type": "stream",
          "name": "stdout",
          "text": [
            "Time remaining for completion is :-2.6Min\n",
            "Epoch: 203, Batch: 34, Loss: 0.0013478078829523709\n"
          ]
        },
        {
          "output_type": "stream",
          "name": "stderr",
          "text": [
            "\r 82%|████████▏ | 205/250 [12:22<02:42,  3.61s/it]"
          ]
        },
        {
          "output_type": "stream",
          "name": "stdout",
          "text": [
            "Time remaining for completion is :-2.7Min\n",
            "Epoch: 204, Batch: 34, Loss: 0.0013422725306424712\n"
          ]
        },
        {
          "output_type": "stream",
          "name": "stderr",
          "text": [
            "\r 82%|████████▏ | 206/250 [12:26<02:39,  3.62s/it]"
          ]
        },
        {
          "output_type": "stream",
          "name": "stdout",
          "text": [
            "Time remaining for completion is :-2.7Min\n",
            "Epoch: 205, Batch: 34, Loss: 0.0014890114677005581\n"
          ]
        },
        {
          "output_type": "stream",
          "name": "stderr",
          "text": [
            "\r 83%|████████▎ | 207/250 [12:29<02:35,  3.62s/it]"
          ]
        },
        {
          "output_type": "stream",
          "name": "stdout",
          "text": [
            "Time remaining for completion is :-2.8Min\n",
            "Epoch: 206, Batch: 34, Loss: 0.0012836045768511082\n"
          ]
        },
        {
          "output_type": "stream",
          "name": "stderr",
          "text": [
            "\r 83%|████████▎ | 208/250 [12:33<02:32,  3.63s/it]"
          ]
        },
        {
          "output_type": "stream",
          "name": "stdout",
          "text": [
            "Time remaining for completion is :-2.8Min\n",
            "Epoch: 207, Batch: 34, Loss: 0.0012077954032325318\n"
          ]
        },
        {
          "output_type": "stream",
          "name": "stderr",
          "text": [
            "\r 84%|████████▎ | 209/250 [12:37<02:28,  3.63s/it]"
          ]
        },
        {
          "output_type": "stream",
          "name": "stdout",
          "text": [
            "Time remaining for completion is :-2.9Min\n",
            "Epoch: 208, Batch: 34, Loss: 0.0011530538189357944\n"
          ]
        },
        {
          "output_type": "stream",
          "name": "stderr",
          "text": [
            "\r 84%|████████▍ | 210/250 [12:40<02:25,  3.63s/it]"
          ]
        },
        {
          "output_type": "stream",
          "name": "stdout",
          "text": [
            "Time remaining for completion is :-3.0Min\n",
            "Epoch: 209, Batch: 34, Loss: 0.0011127821252947406\n"
          ]
        },
        {
          "output_type": "stream",
          "name": "stderr",
          "text": [
            "\r 84%|████████▍ | 211/250 [12:44<02:21,  3.63s/it]"
          ]
        },
        {
          "output_type": "stream",
          "name": "stdout",
          "text": [
            "Time remaining for completion is :-3.0Min\n",
            "Epoch: 210, Batch: 34, Loss: 0.0010842859595348792\n"
          ]
        },
        {
          "output_type": "stream",
          "name": "stderr",
          "text": [
            "\r 85%|████████▍ | 212/250 [12:48<02:17,  3.62s/it]"
          ]
        },
        {
          "output_type": "stream",
          "name": "stdout",
          "text": [
            "Time remaining for completion is :-3.1Min\n",
            "Epoch: 211, Batch: 34, Loss: 0.0010557721601799131\n"
          ]
        },
        {
          "output_type": "stream",
          "name": "stderr",
          "text": [
            "\r 85%|████████▌ | 213/250 [12:51<02:14,  3.63s/it]"
          ]
        },
        {
          "output_type": "stream",
          "name": "stdout",
          "text": [
            "Time remaining for completion is :-3.2Min\n",
            "Epoch: 212, Batch: 34, Loss: 0.0010086881462484597\n"
          ]
        },
        {
          "output_type": "stream",
          "name": "stderr",
          "text": [
            "\r 86%|████████▌ | 214/250 [12:55<02:10,  3.64s/it]"
          ]
        },
        {
          "output_type": "stream",
          "name": "stdout",
          "text": [
            "Time remaining for completion is :-3.2Min\n",
            "Epoch: 213, Batch: 34, Loss: 0.0009906884831642467\n"
          ]
        },
        {
          "output_type": "stream",
          "name": "stderr",
          "text": [
            "\r 86%|████████▌ | 215/250 [12:58<02:06,  3.63s/it]"
          ]
        },
        {
          "output_type": "stream",
          "name": "stdout",
          "text": [
            "Time remaining for completion is :-3.2Min\n",
            "Epoch: 214, Batch: 34, Loss: 0.0009376949422793197\n"
          ]
        },
        {
          "output_type": "stream",
          "name": "stderr",
          "text": [
            "\r 86%|████████▋ | 216/250 [13:02<02:03,  3.64s/it]"
          ]
        },
        {
          "output_type": "stream",
          "name": "stdout",
          "text": [
            "Time remaining for completion is :-3.4Min\n",
            "Epoch: 215, Batch: 34, Loss: 0.0009026805338050638\n"
          ]
        },
        {
          "output_type": "stream",
          "name": "stderr",
          "text": [
            "\r 87%|████████▋ | 217/250 [13:06<01:59,  3.63s/it]"
          ]
        },
        {
          "output_type": "stream",
          "name": "stdout",
          "text": [
            "Time remaining for completion is :-3.4Min\n",
            "Epoch: 216, Batch: 34, Loss: 0.0008666229176534605\n"
          ]
        },
        {
          "output_type": "stream",
          "name": "stderr",
          "text": [
            "\r 87%|████████▋ | 218/250 [13:09<01:56,  3.63s/it]"
          ]
        },
        {
          "output_type": "stream",
          "name": "stdout",
          "text": [
            "Time remaining for completion is :-3.5Min\n",
            "Epoch: 217, Batch: 34, Loss: 0.0008360761899634131\n"
          ]
        },
        {
          "output_type": "stream",
          "name": "stderr",
          "text": [
            "\r 88%|████████▊ | 219/250 [13:13<01:52,  3.63s/it]"
          ]
        },
        {
          "output_type": "stream",
          "name": "stdout",
          "text": [
            "Time remaining for completion is :-3.5Min\n",
            "Epoch: 218, Batch: 34, Loss: 0.0008271506530166204\n"
          ]
        },
        {
          "output_type": "stream",
          "name": "stderr",
          "text": [
            "\r 88%|████████▊ | 220/250 [13:17<01:48,  3.63s/it]"
          ]
        },
        {
          "output_type": "stream",
          "name": "stdout",
          "text": [
            "Time remaining for completion is :-3.6Min\n",
            "Epoch: 219, Batch: 34, Loss: 0.0007959263665335519\n"
          ]
        },
        {
          "output_type": "stream",
          "name": "stderr",
          "text": [
            "\r 88%|████████▊ | 221/250 [13:20<01:45,  3.63s/it]"
          ]
        },
        {
          "output_type": "stream",
          "name": "stdout",
          "text": [
            "Time remaining for completion is :-3.6Min\n",
            "Epoch: 220, Batch: 34, Loss: 0.0007710777505833123\n"
          ]
        },
        {
          "output_type": "stream",
          "name": "stderr",
          "text": [
            "\r 89%|████████▉ | 222/250 [13:24<01:41,  3.63s/it]"
          ]
        },
        {
          "output_type": "stream",
          "name": "stdout",
          "text": [
            "Time remaining for completion is :-3.7Min\n",
            "Epoch: 221, Batch: 34, Loss: 0.0007439722082511123\n"
          ]
        },
        {
          "output_type": "stream",
          "name": "stderr",
          "text": [
            "\r 89%|████████▉ | 223/250 [13:28<01:37,  3.62s/it]"
          ]
        },
        {
          "output_type": "stream",
          "name": "stdout",
          "text": [
            "Time remaining for completion is :-3.7Min\n",
            "Epoch: 222, Batch: 34, Loss: 0.0007023707057149815\n"
          ]
        },
        {
          "output_type": "stream",
          "name": "stderr",
          "text": [
            "\r 90%|████████▉ | 224/250 [13:31<01:34,  3.63s/it]"
          ]
        },
        {
          "output_type": "stream",
          "name": "stdout",
          "text": [
            "Time remaining for completion is :-3.8Min\n",
            "Epoch: 223, Batch: 34, Loss: 0.00068575250916183\n"
          ]
        },
        {
          "output_type": "stream",
          "name": "stderr",
          "text": [
            "\r 90%|█████████ | 225/250 [13:35<01:30,  3.62s/it]"
          ]
        },
        {
          "output_type": "stream",
          "name": "stdout",
          "text": [
            "Time remaining for completion is :-3.8Min\n",
            "Epoch: 224, Batch: 34, Loss: 0.0006717913858925125\n"
          ]
        },
        {
          "output_type": "stream",
          "name": "stderr",
          "text": [
            "\r 90%|█████████ | 226/250 [13:38<01:26,  3.62s/it]"
          ]
        },
        {
          "output_type": "stream",
          "name": "stdout",
          "text": [
            "Time remaining for completion is :-3.9Min\n",
            "Epoch: 225, Batch: 34, Loss: 0.0006604078982491047\n"
          ]
        },
        {
          "output_type": "stream",
          "name": "stderr",
          "text": [
            "\r 91%|█████████ | 227/250 [13:42<01:23,  3.62s/it]"
          ]
        },
        {
          "output_type": "stream",
          "name": "stdout",
          "text": [
            "Time remaining for completion is :-4.0Min\n",
            "Epoch: 226, Batch: 34, Loss: 0.0007919440095845078\n"
          ]
        },
        {
          "output_type": "stream",
          "name": "stderr",
          "text": [
            "\r 91%|█████████ | 228/250 [13:46<01:19,  3.61s/it]"
          ]
        },
        {
          "output_type": "stream",
          "name": "stdout",
          "text": [
            "Time remaining for completion is :-4.0Min\n",
            "Epoch: 227, Batch: 34, Loss: 0.0007243014780604946\n"
          ]
        },
        {
          "output_type": "stream",
          "name": "stderr",
          "text": [
            "\r 92%|█████████▏| 229/250 [13:49<01:15,  3.61s/it]"
          ]
        },
        {
          "output_type": "stream",
          "name": "stdout",
          "text": [
            "Time remaining for completion is :-4.1Min\n",
            "Epoch: 228, Batch: 34, Loss: 0.0006480147421825677\n"
          ]
        },
        {
          "output_type": "stream",
          "name": "stderr",
          "text": [
            "\r 92%|█████████▏| 230/250 [13:53<01:12,  3.63s/it]"
          ]
        },
        {
          "output_type": "stream",
          "name": "stdout",
          "text": [
            "Time remaining for completion is :-4.2Min\n",
            "Epoch: 229, Batch: 34, Loss: 0.0006432350932820035\n"
          ]
        },
        {
          "output_type": "stream",
          "name": "stderr",
          "text": [
            "\r 92%|█████████▏| 231/250 [13:56<01:08,  3.63s/it]"
          ]
        },
        {
          "output_type": "stream",
          "name": "stdout",
          "text": [
            "Time remaining for completion is :-4.2Min\n",
            "Epoch: 230, Batch: 34, Loss: 0.000650549290003255\n"
          ]
        },
        {
          "output_type": "stream",
          "name": "stderr",
          "text": [
            "\r 93%|█████████▎| 232/250 [14:00<01:05,  3.64s/it]"
          ]
        },
        {
          "output_type": "stream",
          "name": "stdout",
          "text": [
            "Time remaining for completion is :-4.3Min\n",
            "Epoch: 231, Batch: 34, Loss: 0.0005776487315805363\n"
          ]
        },
        {
          "output_type": "stream",
          "name": "stderr",
          "text": [
            "\r 93%|█████████▎| 233/250 [14:04<01:01,  3.63s/it]"
          ]
        },
        {
          "output_type": "stream",
          "name": "stdout",
          "text": [
            "Time remaining for completion is :-4.3Min\n",
            "Epoch: 232, Batch: 34, Loss: 0.0005553548831293094\n"
          ]
        },
        {
          "output_type": "stream",
          "name": "stderr",
          "text": [
            "\r 94%|█████████▎| 234/250 [14:07<00:57,  3.62s/it]"
          ]
        },
        {
          "output_type": "stream",
          "name": "stdout",
          "text": [
            "Time remaining for completion is :-4.4Min\n",
            "Epoch: 233, Batch: 34, Loss: 0.0005397069184774799\n"
          ]
        },
        {
          "output_type": "stream",
          "name": "stderr",
          "text": [
            "\r 94%|█████████▍| 235/250 [14:11<00:54,  3.63s/it]"
          ]
        },
        {
          "output_type": "stream",
          "name": "stdout",
          "text": [
            "Time remaining for completion is :-4.5Min\n",
            "Epoch: 234, Batch: 34, Loss: 0.0005249294369215412\n"
          ]
        },
        {
          "output_type": "stream",
          "name": "stderr",
          "text": [
            "\r 94%|█████████▍| 236/250 [14:15<00:50,  3.62s/it]"
          ]
        },
        {
          "output_type": "stream",
          "name": "stdout",
          "text": [
            "Time remaining for completion is :-4.5Min\n",
            "Epoch: 235, Batch: 34, Loss: 0.0004991445424301284\n"
          ]
        },
        {
          "output_type": "stream",
          "name": "stderr",
          "text": [
            "\r 95%|█████████▍| 237/250 [14:18<00:47,  3.62s/it]"
          ]
        },
        {
          "output_type": "stream",
          "name": "stdout",
          "text": [
            "Time remaining for completion is :-4.6Min\n",
            "Epoch: 236, Batch: 34, Loss: 0.0004856150273034083\n"
          ]
        },
        {
          "output_type": "stream",
          "name": "stderr",
          "text": [
            "\r 95%|█████████▌| 238/250 [14:22<00:43,  3.63s/it]"
          ]
        },
        {
          "output_type": "stream",
          "name": "stdout",
          "text": [
            "Time remaining for completion is :-4.7Min\n",
            "Epoch: 237, Batch: 34, Loss: 0.00046344163253836867\n"
          ]
        },
        {
          "output_type": "stream",
          "name": "stderr",
          "text": [
            "\r 96%|█████████▌| 239/250 [14:26<00:40,  3.64s/it]"
          ]
        },
        {
          "output_type": "stream",
          "name": "stdout",
          "text": [
            "Time remaining for completion is :-4.8Min\n",
            "Epoch: 238, Batch: 34, Loss: 0.00044458735376662974\n"
          ]
        },
        {
          "output_type": "stream",
          "name": "stderr",
          "text": [
            "\r 96%|█████████▌| 240/250 [14:29<00:36,  3.65s/it]"
          ]
        },
        {
          "output_type": "stream",
          "name": "stdout",
          "text": [
            "Time remaining for completion is :-4.8Min\n",
            "Epoch: 239, Batch: 34, Loss: 0.0004391266336564773\n"
          ]
        },
        {
          "output_type": "stream",
          "name": "stderr",
          "text": [
            "\r 96%|█████████▋| 241/250 [14:33<00:32,  3.66s/it]"
          ]
        },
        {
          "output_type": "stream",
          "name": "stdout",
          "text": [
            "Time remaining for completion is :-4.9Min\n",
            "Epoch: 240, Batch: 34, Loss: 0.0004461926848827196\n"
          ]
        },
        {
          "output_type": "stream",
          "name": "stderr",
          "text": [
            "\r 97%|█████████▋| 242/250 [14:37<00:29,  3.66s/it]"
          ]
        },
        {
          "output_type": "stream",
          "name": "stdout",
          "text": [
            "Time remaining for completion is :-4.9Min\n",
            "Epoch: 241, Batch: 34, Loss: 0.0004352814954472706\n"
          ]
        },
        {
          "output_type": "stream",
          "name": "stderr",
          "text": [
            "\r 97%|█████████▋| 243/250 [14:40<00:25,  3.66s/it]"
          ]
        },
        {
          "output_type": "stream",
          "name": "stdout",
          "text": [
            "Time remaining for completion is :-5.0Min\n",
            "Epoch: 242, Batch: 34, Loss: 0.0004309655566300665\n"
          ]
        },
        {
          "output_type": "stream",
          "name": "stderr",
          "text": [
            "\r 98%|█████████▊| 244/250 [14:44<00:21,  3.66s/it]"
          ]
        },
        {
          "output_type": "stream",
          "name": "stdout",
          "text": [
            "Time remaining for completion is :-5.1Min\n",
            "Epoch: 243, Batch: 34, Loss: 0.00039661755477676965\n"
          ]
        },
        {
          "output_type": "stream",
          "name": "stderr",
          "text": [
            "\r 98%|█████████▊| 245/250 [14:48<00:18,  3.66s/it]"
          ]
        },
        {
          "output_type": "stream",
          "name": "stdout",
          "text": [
            "Time remaining for completion is :-5.1Min\n",
            "Epoch: 244, Batch: 34, Loss: 0.0003806030726991594\n"
          ]
        },
        {
          "output_type": "stream",
          "name": "stderr",
          "text": [
            "\r 98%|█████████▊| 246/250 [14:51<00:14,  3.67s/it]"
          ]
        },
        {
          "output_type": "stream",
          "name": "stdout",
          "text": [
            "Time remaining for completion is :-5.2Min\n",
            "Epoch: 245, Batch: 34, Loss: 0.000379520737832146\n"
          ]
        },
        {
          "output_type": "stream",
          "name": "stderr",
          "text": [
            "\r 99%|█████████▉| 247/250 [14:55<00:11,  3.69s/it]"
          ]
        },
        {
          "output_type": "stream",
          "name": "stdout",
          "text": [
            "Time remaining for completion is :-5.4Min\n",
            "Epoch: 246, Batch: 34, Loss: 0.0003651074429009376\n"
          ]
        },
        {
          "output_type": "stream",
          "name": "stderr",
          "text": [
            "\r 99%|█████████▉| 248/250 [14:59<00:07,  3.68s/it]"
          ]
        },
        {
          "output_type": "stream",
          "name": "stdout",
          "text": [
            "Time remaining for completion is :-5.3Min\n",
            "Epoch: 247, Batch: 34, Loss: 0.0003493557862904189\n"
          ]
        },
        {
          "output_type": "stream",
          "name": "stderr",
          "text": [
            "\r100%|█████████▉| 249/250 [15:02<00:03,  3.67s/it]"
          ]
        },
        {
          "output_type": "stream",
          "name": "stdout",
          "text": [
            "Time remaining for completion is :-5.3Min\n",
            "Epoch: 248, Batch: 34, Loss: 0.00033901605804982995\n"
          ]
        },
        {
          "output_type": "stream",
          "name": "stderr",
          "text": [
            "100%|██████████| 250/250 [15:06<00:00,  3.63s/it]"
          ]
        },
        {
          "output_type": "stream",
          "name": "stdout",
          "text": [
            "Time remaining for completion is :-5.4Min\n",
            "Epoch: 249, Batch: 34, Loss: 0.00033062555428062164\n"
          ]
        },
        {
          "output_type": "stream",
          "name": "stderr",
          "text": [
            "\n"
          ]
        }
      ]
    },
    {
      "cell_type": "code",
      "source": [
        "import matplotlib.pyplot as plt\n",
        "x = np.arange(0, 250)\n",
        "plt.plot(x, loss_list)\n",
        "plt.show()"
      ],
      "metadata": {
        "colab": {
          "base_uri": "https://localhost:8080/",
          "height": 430
        },
        "id": "L8Iuyt7JQCfO",
        "outputId": "c7c71746-3826-46f2-c26e-7e349d0e4445"
      },
      "execution_count": 11,
      "outputs": [
        {
          "output_type": "display_data",
          "data": {
            "text/plain": [
              "<Figure size 640x480 with 1 Axes>"
            ],
            "image/png": "[encoded data removed]"
          },
          "metadata": {}
        }
      ]
    },
    {
      "cell_type": "code",
      "source": [
        "attention_model.eval()\n",
        "with torch.no_grad():\n",
        "  output = attention_model(all_word_vectors[0].reshape(100,50,768))\n",
        "  print(output)\n",
        "threshold = 0.5\n",
        "binary_output = (output >= threshold).int()"
      ],
      "metadata": {
        "colab": {
          "base_uri": "https://localhost:8080/"
        },
        "collapsed": true,
        "id": "MAJbh94NxylC",
        "outputId": "0ddd18c9-7376-4c45-bc52-259a758ca4f6"
      },
      "execution_count": 12,
      "outputs": [
        {
          "output_type": "stream",
          "name": "stdout",
          "text": [
            "tensor([1.3575e-04, 2.0071e-06, 9.9915e-01, 1.0797e-05, 3.5549e-05, 9.9958e-01,\n",
            "        1.1690e-08, 1.9349e-06, 9.9922e-01, 9.9976e-01, 2.8705e-04, 9.9911e-01,\n",
            "        9.9917e-01, 1.5736e-05, 2.1125e-04, 9.9866e-01, 1.4553e-04, 5.5679e-10,\n",
            "        3.6749e-04, 9.9876e-01, 5.2039e-04, 6.4692e-05, 3.2575e-08, 3.6077e-06,\n",
            "        1.3359e-04, 1.6320e-06, 2.8985e-04, 1.4873e-07, 3.1582e-06, 1.7519e-04,\n",
            "        4.9754e-05, 2.1957e-07, 1.5248e-05, 1.6527e-04, 9.9871e-01, 3.1162e-07,\n",
            "        3.7876e-06, 7.7589e-05, 9.5963e-09, 6.6928e-07, 3.3257e-07, 1.0517e-04,\n",
            "        9.9958e-01, 1.7718e-04, 8.8063e-06, 3.9735e-05, 8.0302e-05, 2.4140e-06,\n",
            "        1.1515e-05, 4.5049e-06, 2.7165e-06, 2.5295e-08, 1.3794e-05, 1.1881e-06,\n",
            "        9.9925e-01, 5.5542e-07, 9.9944e-01, 8.6684e-06, 2.1411e-05, 2.2890e-04,\n",
            "        4.1795e-05, 5.5264e-05, 8.8727e-07, 1.3718e-06, 1.3322e-03, 9.9871e-01,\n",
            "        2.5529e-08, 9.9997e-01, 9.9914e-01, 1.3978e-07, 6.3334e-04, 1.4678e-07,\n",
            "        1.9883e-07, 5.7004e-08, 9.6272e-04, 2.5314e-04, 9.4041e-06, 2.6470e-05,\n",
            "        4.6439e-04, 1.4769e-04, 7.1750e-04, 7.3421e-04, 1.4743e-04, 7.8026e-05,\n",
            "        6.4523e-08, 3.1292e-04, 1.3069e-04, 1.0838e-07, 1.3725e-08, 1.0527e-06,\n",
            "        2.1148e-04, 1.1953e-04, 4.6748e-04, 9.9903e-01, 1.5799e-04, 9.9917e-01,\n",
            "        5.6678e-04, 3.3585e-04, 6.6871e-07, 3.3482e-10], device='cuda:0')\n"
          ]
        }
      ]
    },
    {
      "cell_type": "code",
      "source": [
        "binary_output"
      ],
      "metadata": {
        "colab": {
          "base_uri": "https://localhost:8080/"
        },
        "id": "IBj2s6Yh1wvt",
        "outputId": "562d4c0a-c134-4ba0-bf0f-1b2d5f77eaf0"
      },
      "execution_count": 13,
      "outputs": [
        {
          "output_type": "execute_result",
          "data": {
            "text/plain": [
              "tensor([0, 0, 1, 0, 0, 1, 0, 0, 1, 1, 0, 1, 1, 0, 0, 1, 0, 0, 0, 1, 0, 0, 0, 0,\n",
              "        0, 0, 0, 0, 0, 0, 0, 0, 0, 0, 1, 0, 0, 0, 0, 0, 0, 0, 1, 0, 0, 0, 0, 0,\n",
              "        0, 0, 0, 0, 0, 0, 1, 0, 1, 0, 0, 0, 0, 0, 0, 0, 0, 1, 0, 1, 1, 0, 0, 0,\n",
              "        0, 0, 0, 0, 0, 0, 0, 0, 0, 0, 0, 0, 0, 0, 0, 0, 0, 0, 0, 0, 0, 1, 0, 1,\n",
              "        0, 0, 0, 0], device='cuda:0', dtype=torch.int32)"
            ]
          },
          "metadata": {},
          "execution_count": 13
        }
      ]
    },
    {
      "cell_type": "code",
      "source": [
        "oroginal_label = torch.tensor(df['Category'].head(100)).to('cuda')\n",
        "print(oroginal_label == binary_output)\n"
      ],
      "metadata": {
        "colab": {
          "base_uri": "https://localhost:8080/"
        },
        "id": "hyvCv_hY_JV3",
        "outputId": "a6d9219c-5b77-4561-df59-e2bc4c488b11"
      },
      "execution_count": 14,
      "outputs": [
        {
          "output_type": "stream",
          "name": "stdout",
          "text": [
            "tensor([True, True, True, True, True, True, True, True, True, True, True, True,\n",
            "        True, True, True, True, True, True, True, True, True, True, True, True,\n",
            "        True, True, True, True, True, True, True, True, True, True, True, True,\n",
            "        True, True, True, True, True, True, True, True, True, True, True, True,\n",
            "        True, True, True, True, True, True, True, True, True, True, True, True,\n",
            "        True, True, True, True, True, True, True, True, True, True, True, True,\n",
            "        True, True, True, True, True, True, True, True, True, True, True, True,\n",
            "        True, True, True, True, True, True, True, True, True, True, True, True,\n",
            "        True, True, True, True], device='cuda:0')\n"
          ]
        }
      ]
    },
    {
      "cell_type": "code",
      "source": [
        "df2['Category'] = df2['Category'].apply(map_value())\n",
        "y = df2['Category']\n",
        "text2 = [_ for _ in df2['Message']]\n",
        "\n",
        "# Import GPT Tokenizer\n",
        "\n",
        "tokenizer = GPT2TokenizerFast.from_pretrained('gpt2')\n",
        "model = GPT2Model.from_pretrained('gpt2').to('cuda')\n",
        "tokenizer.pad_token = tokenizer.eos_token\n",
        "\n",
        "\n",
        "def get_pos_encoding(seq_len, d_model):\n",
        "  pos_encoding = np.array(\n",
        "    [\n",
        "      [pos / np.power(10000, 2 * (j // 2) / d_model) for j in range(d_model)]\n",
        "      for pos in range(seq_len)\n",
        "    ]\n",
        "  )\n",
        "  pos_encoding[:, 0::2] = np.sin(pos_encoding[:, 0::2])\n",
        "  pos_encoding[:, 1::2] = np.cos(pos_encoding[:, 1::2])\n",
        "  return torch.from_numpy(pos_encoding).float()\n",
        "\n",
        "\n",
        "# Define a custom Dataset\n",
        "\n",
        "def tokenize_and_pad(sentences, tokenizer, max_length=50, padding='max_length'):\n",
        "    print('Processing Tokenization ...')\n",
        "    tokenized_sentences = tokenizer(sentences, truncation=True, padding=padding, max_length=max_length,\n",
        "                                    return_tensors='pt')\n",
        "    input_ids = tokenized_sentences['input_ids']\n",
        "    attention_mask = tokenized_sentences['attention_mask']\n",
        "\n",
        "    return input_ids, attention_mask\n",
        "\n",
        "    # Create dataset and dataLoader\n",
        "\n",
        "\n",
        "dataset, attention_mask = tokenize_and_pad(text2, tokenizer)\n",
        "dataloader = DataLoader(dataset, batch_size=128, shuffle=True)\n",
        "\n",
        "counter = 0\n",
        "for batch in dataloader:\n",
        "    counter += 1\n",
        "\n",
        "all_word_vectors = []\n",
        "print('Processing Vectorization ...')\n",
        "with torch.no_grad():\n",
        "    for i, batch in enumerate(dataloader):\n",
        "        t1 = time.time()\n",
        "        batch = batch.to(device='cuda')\n",
        "        outputs = model(batch)\n",
        "        word_vectors = outputs.last_hidden_state\n",
        "        # positional_embeddings = model.wpe(batch)\n",
        "        all_word_vectors.append(word_vectors + get_pos_encoding(50,768).to('cuda'))\n",
        "        t2 =time.time()\n",
        "        if i % 5 == 0:\n",
        "          print(f'Processing Vectorization ... ETC: {round((t2-t1) * (counter-i),1)}sec')\n",
        "\n",
        "# Concatenate all word vectors from batches\n",
        "all_word_vectors = torch.cat(all_word_vectors, dim=0).reshape(15,100,50,768)"
      ],
      "metadata": {
        "colab": {
          "base_uri": "https://localhost:8080/"
        },
        "id": "q47iww4o_Zbh",
        "outputId": "629688eb-ea72-4cca-995a-2c9ee333038e"
      },
      "execution_count": 15,
      "outputs": [
        {
          "output_type": "stream",
          "name": "stdout",
          "text": [
            "Processing Tokenization ...\n",
            "Processing Vectorization ...\n",
            "Processing Vectorization ... ETC: 1.1sec\n",
            "Processing Vectorization ... ETC: 0.5sec\n",
            "Processing Vectorization ... ETC: 0.2sec\n"
          ]
        }
      ]
    },
    {
      "cell_type": "code",
      "source": [
        "all_word_vectors.shape"
      ],
      "metadata": {
        "colab": {
          "base_uri": "https://localhost:8080/"
        },
        "id": "ohcEsJjeHlUN",
        "outputId": "c1592842-6692-4ac6-8871-203e569ee2a0"
      },
      "execution_count": 16,
      "outputs": [
        {
          "output_type": "execute_result",
          "data": {
            "text/plain": [
              "torch.Size([15, 100, 50, 768])"
            ]
          },
          "metadata": {},
          "execution_count": 16
        }
      ]
    },
    {
      "cell_type": "code",
      "source": [
        "attention_model.eval()\n",
        "output_list = []\n",
        "with torch.no_grad():\n",
        "  for batch in range(all_word_vectors.shape[0]):\n",
        "    output = attention_model(all_word_vectors[batch].reshape(100,50,768))\n",
        "    output_list.append(output.cpu().numpy())\n",
        "\n",
        "threshold = 0.5\n",
        "binary_output = (output >= threshold).int()"
      ],
      "metadata": {
        "id": "XJmMk6H2HIFp"
      },
      "execution_count": 17,
      "outputs": []
    },
    {
      "cell_type": "code",
      "source": [
        "y = df2['Category']\n",
        "label = torch.tensor(y.to_numpy()).float()\n",
        "label = label.reshape(15,100).to('cuda')\n",
        "label.shape"
      ],
      "metadata": {
        "colab": {
          "base_uri": "https://localhost:8080/"
        },
        "id": "ew_vGLaOHJNl",
        "outputId": "29544a76-aa0a-402f-8c33-25001877ed27"
      },
      "execution_count": 18,
      "outputs": [
        {
          "output_type": "execute_result",
          "data": {
            "text/plain": [
              "torch.Size([15, 100])"
            ]
          },
          "metadata": {},
          "execution_count": 18
        }
      ]
    },
    {
      "cell_type": "code",
      "source": [
        "eval_result = list((label == binary_output).flatten().cpu().numpy())\n",
        "Performance = (sum(eval_result)/len(eval_result))*100\n",
        "print(f'Performance: {Performance}%')"
      ],
      "metadata": {
        "colab": {
          "base_uri": "https://localhost:8080/"
        },
        "id": "AtEi2a-gJLxb",
        "outputId": "da192f3b-3bf9-4d3b-e689-909d6d646d4c"
      },
      "execution_count": 19,
      "outputs": [
        {
          "output_type": "stream",
          "name": "stdout",
          "text": [
            "Performance: 84.33333333333334%\n"
          ]
        }
      ]
    },
    {
      "cell_type": "code",
      "source": [],
      "metadata": {
        "id": "rRUfTLXxJ3Ke"
      },
      "execution_count": 19,
      "outputs": []
    }
  ]
}